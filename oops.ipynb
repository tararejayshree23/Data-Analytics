{
  "nbformat": 4,
  "nbformat_minor": 0,
  "metadata": {
    "colab": {
      "provenance": []
    },
    "kernelspec": {
      "name": "python3",
      "display_name": "Python 3"
    },
    "language_info": {
      "name": "python"
    }
  },
  "cells": [
    {
      "cell_type": "markdown",
      "source": [
        "# oops"
      ],
      "metadata": {
        "id": "TfQhmpgr3oY-"
      }
    },
    {
      "cell_type": "markdown",
      "source": [
        "# 1. What is Object-Oriented Programming (OOP)?\n",
        "     -> Object-Oriented Programming (OOP) is a programming approach that uses objects and classes to design, organize, and structure software. It emphasizes:\n",
        "\n",
        "1. Encapsulation (bundling data and methods)\n",
        "2. Abstraction (hiding internal details)\n",
        "3. Inheritance (creating new classes from existing ones)\n",
        "4. Polymorphism (objects taking multiple forms)\n",
        "\n",
        "OOP helps create reusable, modular, and maintainable code.\n",
        "\n",
        "# 2. What is a class in OOP?\n",
        "     -> Class: A blueprint or template that defines the properties and behavior of an object. It specifies the data (attributes) and methods (functions) that objects created from the class will have.\n",
        "     Think of a class as a template for creating objects.\n",
        "\n",
        "#3. What is an object in OOP?\n",
        "     -> Object: An instance of a class, which has its own set of attributes (data) and methods (functions). Objects represent real-world entities or concepts and have their own state and behavior.\n",
        "\n",
        "#4. What is the difference between abstraction and encapsulation?\n",
        "     -> Abstraction and Encapsulation are related but distinct concepts in Object-Oriented Programming (OOP):\n",
        "\n",
        "Abstraction:\n",
        "\n",
        "- Focuses on hiding internal implementation details and showing only the necessary information to the outside world.\n",
        "- Helps to reduce complexity by exposing only the essential features of an object or system.\n",
        "- Example: A car's accelerator pedal abstracts the complex engine mechanics, allowing you to control speed without knowing the details.\n",
        "\n",
        "Encapsulation:\n",
        "\n",
        "- Focuses on bundling data and its methods that operate on that data within a single unit (class or object).\n",
        "- Helps to control access to the data and ensure data integrity by hiding it from external interference.\n",
        "- Example: A bank account class encapsulates the account balance and provides methods to deposit, withdraw, or check the balance.\n",
        "\n",
        "#5. What are dunder methods in Python?\n",
        "     -> Dunder Methods (short for \"double underscore\" methods) in Python are special methods that are surrounded by double underscores (__) on either side of the method name. These methods are used to define custom behavior for objects of a class, such as:\n",
        "\n",
        "1. Initialization and representation:\n",
        "    - _init_: Initializes an object.\n",
        "    - _repr_: Returns a string representation of an object.\n",
        "    - _str_: Returns a human-readable string representation of an object.\n",
        "2. Arithmetic operations:\n",
        "    - _add_: Defines the behavior for the + operator.\n",
        "    - _sub_: Defines the behavior for the - operator.\n",
        "    - _mul_: Defines the behavior for the * operator.\n",
        "3. Comparison operations:\n",
        "    - _eq_: Defines the behavior for the == operator.\n",
        "    - _lt_: Defines the behavior for the < operator.\n",
        "    - _gt_: Defines the behavior for the > operator.\n",
        "4. Container operations:\n",
        "    - _len_: Returns the length of a container.\n",
        "    - _getitem_: Defines the behavior for indexing (e.g., my_list[0]).\n",
        "    - _setitem_: Defines the behavior for assigning to an index (e.g., my_list[0] = 'value').\n",
        "\n",
        "#6. Explain the concept of inheritance in OOP?\n",
        "     -> Inheritance in Object-Oriented Programming (OOP) is a mechanism where a new class (the subclass or derived class) inherits the properties and behavior of an existing class (the superclass or base class). The subclass inherits all the attributes and methods of the superclass and can also add new attributes and methods or override the ones inherited from the superclass.\n",
        "\n",
        "Key benefits:\n",
        "\n",
        "1. Code reuse: Inheritance allows for code reuse by inheriting the common attributes and methods from the superclass.\n",
        "2. Hierarchical relationships: Inheritance helps to model hierarchical relationships between classes, where a subclass is a specialized version of the superclass.\n",
        "3. Easier maintenance: Changes to the superclass can automatically be reflected in the subclasses.\n",
        "\n",
        "#7. What is polymorphism in OOP?\n",
        "     -> Polymorphism in Object-Oriented Programming (OOP) is the ability of an object to take on multiple forms, depending on the context. This can be achieved through:\n",
        "\n",
        "1. Method overriding: A subclass provides a specific implementation for a method already defined in its superclass.\n",
        "2. Method overloading: Multiple methods with the same name but different parameters (not directly supported in Python).\n",
        "3. Function polymorphism: A function can work with different data types.\n",
        "\n",
        "#8. How is encapsulation achieved in Python?\n",
        "     -> Encapsulation in Python is achieved by restricting direct access to class data and providing controlled access through methods:\n",
        "\n",
        "1. Use single underscore (_var) for protected members (convention).\n",
        "\n",
        "2. Use double underscore (__var) for private members (name mangling).\n",
        "\n",
        "3. Access/modify data via getter and setter methods or @property.\n",
        "\n",
        "#9. What is a constructor in Python?\n",
        "     -> In Python, a constructor is a special method named __init__() that is automatically called when an object of a class is created.\n",
        "\n",
        "     It is used to initialize object attributes.\n",
        "     Defined inside the class with the first parameter self.\n",
        "\n",
        "   Example: class Student:\n",
        "     def __init__(self, name, age):  # constructor\n",
        "        self.name = name\n",
        "        self.age = age\n",
        "      s1 = Student(\"Alice\", 20)\n",
        "     print(s1.name, s1.age)    \n",
        "\n",
        "\n",
        "#10. What are class and static methods in Python?\n",
        "      -> Class Methods and Static Methods in Python are two types of methods that can be defined inside a class.\n",
        "\n",
        "Class Methods:\n",
        "\n",
        "- Decorated with @classmethod\n",
        "- Take the class itself as the first parameter (usually named cls)\n",
        "- Can access or modify class state\n",
        "- Can be used as an alternative constructor\n",
        "\n",
        "Static Methods:\n",
        "\n",
        "- Decorated with @staticmethod\n",
        "- Do not take any implicit parameters (like self or cls)\n",
        "- Cannot access or modify class or instance state\n",
        "- Used for utility functions that belong to the class but don't depend on its state.\n",
        "\n",
        "#11. What is method overloading in Python?\n",
        "     -> Method Overloading is not directly supported in Python like it is in some other languages. However, you can achieve similar behavior using:\n",
        "\n",
        "1. Default argument values: Assigning default values to some or all of the method's parameters.\n",
        "2. Variable number of arguments: Using *args or **kwargs to accept a variable number of arguments.\n",
        "3. Type checking: Checking the type of the arguments inside the method and handling them accordingly.\n",
        "\n",
        "#12. What is method overriding in OOP?\n",
        "      -> Method Overriding in Object-Oriented Programming (OOP) is a feature that allows a subclass to provide a specific implementation for a method that is already defined in its superclass. The subclass method has the same name, return type, and parameter list as the superclass method, but it can have a different implementation.\n",
        "\n",
        "Key aspects:\n",
        "\n",
        "1. Same method signature: The subclass method must have the same name, return type, and parameter list as the superclass method.\n",
        "2. Different implementation: The subclass method can have a different implementation than the superclass method.\n",
        "3. Polymorphism: Method overriding is a form of polymorphism, where objects of different classes can be treated as objects of a common superclass.\n",
        "\n",
        "#13. What is a property decorator in Python?\n",
        "        -> Property Decorator in Python is a way to implement getter, setter, and deleter functionality for instance attributes. It allows you to define methods that can be accessed like attributes.\n",
        "\n",
        "Benefits:\n",
        "\n",
        "1. Encapsulation: Properties help encapsulate internal state and behavior.\n",
        "2. Custom access: Properties enable custom getter, setter, and deleter logic.\n",
        "\n",
        "#14. Why is polymorphism important in OOP?\n",
        "       -> Polymorphism is important in Object-Oriented Programming (OOP) because it:\n",
        "\n",
        "1. Increases flexibility: Allows objects of different classes to be treated as objects of a common superclass.\n",
        "2. Enhances modularity: Enables writing code that can work with a variety of data types.\n",
        "3. Promotes code reuse: Reduces code duplication by allowing the same code to work with different objects.\n",
        "4. Improves maintainability: Makes it easier to add new functionality or modify existing code without affecting other parts of the program.\n",
        "\n",
        "#15. What is an abstract class in Python?\n",
        "      -> Abstract Class in Python is a class that cannot be instantiated on its own and is designed to be inherited by other classes. It provides a blueprint for other classes to follow and can define abstract methods that must be implemented by its subclasses.\n",
        "\n",
        "Key characteristics:\n",
        "\n",
        "1. Cannot be instantiated: Abstract classes cannot be created directly.\n",
        "2. Defines abstract methods: Abstract classes can define methods without implementation, which must be implemented by subclasses.\n",
        "3. Inherited by other classes: Abstract classes are designed to be inherited by other classes.\n",
        "\n",
        "#16. What are the advantages of OOP?\n",
        "      -> Advantages of Object-Oriented Programming (OOP):\n",
        "\n",
        "1. Modularity: OOP allows for breaking down a program into smaller, independent modules (classes) that can be easily maintained and reused.\n",
        "2. Reusability: Classes can be reused in multiple programs, reducing code duplication and improving productivity.\n",
        "3. Easier maintenance: OOP's modular nature makes it easier to modify or extend existing code without affecting other parts of the program.\n",
        "4. Improved readability: OOP's use of classes and objects makes code more readable and self-explanatory.\n",
        "5. Better abstraction: OOP allows for abstracting away complex implementation details, making code more modular and reusable.\n",
        "6. Increased flexibility: OOP's use of polymorphism and inheritance enables writing more flexible and generic code.\n",
        "7. Easier debugging: OOP's modular nature makes it easier to identify and fix errors.\n",
        "\n",
        "#17. What is the difference between a class variable and an instance variable?\n",
        "     -> Class Variable vs Instance Variable:\n",
        "\n",
        "1. Class Variable:\n",
        "    - Shared by all instances of the class.\n",
        "    - Defined at the class level.\n",
        "    - Accessed using the class name or instance.\n",
        "2. Instance Variable:\n",
        "    - Unique to each instance of the class.\n",
        "    - Defined inside a method (usually __init__).\n",
        "    - Accessed using the instance.\n",
        "\n",
        "#18. What is multiple inheritance in Python?\n",
        "       -> Multiple Inheritance in Python:\n",
        "\n",
        "- A class can inherit properties and methods from more than one parent class.\n",
        "- Allows combining attributes and behaviors of multiple classes.\n",
        "- Increases flexibility and code reuse.\n",
        "- Python's Method Resolution Order (MRO) resolves potential conflicts.\n",
        "\n",
        "Example: `class Dog(Animal, Mammal):`\n",
        "\n",
        "#19.  ‘’__str__’ and ‘__repr__’ ‘ methods in Python.\n",
        "        -> __str__ and __repr__ Methods:\n",
        "\n",
        "1. __str__:\n",
        "    - Returns a human-readable string representation of an object.\n",
        "    - Used for display purposes, such as printing or logging.\n",
        "    - Should return a string that is easy to understand and readable.\n",
        "2. __repr__:\n",
        "    - Returns a string representation of an object that is useful for debugging and logging.\n",
        "    - Ideally, the string should be a valid Python expression that could be used to recreate the object.\n",
        "    - Used for development and debugging purposes.\n",
        "\n",
        "#20. What is the significance of the ‘super()’ function in Python?\n",
        "      -> super() Function:\n",
        "\n",
        "The super() function in Python is used to access methods and properties of a parent class (also known as a superclass) from a child class. It allows you to:\n",
        "\n",
        "1. Call parent class methods: Use super() to call methods of the parent class, even if they are overridden in the child class.\n",
        "2. Access parent class properties: Use super() to access properties of the parent class.\n",
        "\n",
        "#21. What is the significance of the __del__ method in Python?\n",
        "      -> __del__ Method:\n",
        "\n",
        "The __del__ method in Python is a special method that is called when an object is about to be destroyed. It is also known as a finalizer or destructor.\n",
        "\n",
        "Significance:\n",
        "\n",
        "1. Resource cleanup: The __del__ method can be used to release resources such as file handles, network connections, or database connections.\n",
        "2. Object finalization: It can be used to perform any necessary finalization tasks before an object is destroyed.\n",
        "\n",
        "#22. What is the difference between @staticmethod and @classmethod in Python?\n",
        "       -> @staticmethod vs @classmethod:\n",
        "\n",
        "1. @staticmethod:\n",
        "    - A method that belongs to a class rather than an instance.\n",
        "    - Does not take any implicit parameters (like self or cls).\n",
        "    - Cannot access or modify class or instance state.\n",
        "    - Used for utility functions that belong to the class but don't depend on its state.\n",
        "2. @classmethod:\n",
        "    - A method that is bound to the class rather than an instance.\n",
        "    - Takes the class itself as the first parameter (usually named cls).\n",
        "    - Can access or modify class state.\n",
        "    - Used for alternative constructors or methods that need to access class-level data.\n",
        "\n",
        "#23. How does polymorphism work in Python with inheritance?\n",
        "      -> Polymorphism with Inheritance in Python:\n",
        "\n",
        "Polymorphism in Python allows objects of different classes to be treated as objects of a common superclass. When combined with inheritance, polymorphism enables you to:\n",
        "\n",
        "1. Override methods: A subclass can provide a specific implementation for a method already defined in its superclass.\n",
        "2. Use superclass references: You can use a superclass reference to call methods on objects of different subclasses.\n",
        "\n",
        "#24. What is method chaining in Python OOP?\n",
        "     -> Method Chaining:\n",
        "\n",
        "- Technique where multiple methods are called on the same object in a single statement.\n",
        "- Each method returns `self`, allowing the next method to be called.\n",
        "- Improves readability and usability.\n",
        "\n",
        "Example: `builder.append(\"World\").prepend(\"Hello \").get_string()`\n",
        "\n",
        "#25. What is the purpose of the __call__ method in Python?\n",
        "      -> __call__ Method:\n",
        "\n",
        "The __call__ method in Python is a special method that allows an instance of a class to be called as a function. It enables objects to behave like functions, making them callable.\n",
        "\n",
        "Purpose:\n",
        "\n",
        "1. Callable objects: The __call__ method allows objects to be used as functions, making them more flexible and reusable.\n",
        "2. Function-like behavior: Objects with a __call__ method can be used in situations where a function is expected.\n",
        "\n"
      ],
      "metadata": {
        "id": "Tti_uCNq3uKE"
      }
    },
    {
      "cell_type": "code",
      "execution_count": 10,
      "metadata": {
        "colab": {
          "base_uri": "https://localhost:8080/"
        },
        "id": "UkO1sT5h1ebn",
        "outputId": "d6ad5c64-3d3c-47cb-f5b1-18b891cc8663"
      },
      "outputs": [
        {
          "output_type": "stream",
          "name": "stdout",
          "text": [
            "This animal makes a sound\n",
            "Bark!\n"
          ]
        }
      ],
      "source": [
        "#1.  Create a parent class Animal with a method speak() that prints a generic message. Create a child class Dog\n",
        "#that overrides the speak() method to print \"Bark!\".\n",
        "\n",
        "# Parent class\n",
        "class Animal:\n",
        "    def speak(self):\n",
        "        print(\"This animal makes a sound\")\n",
        "\n",
        "# Child class\n",
        "class Dog(Animal):\n",
        "    def speak(self):  # overriding\n",
        "        print(\"Bark!\")\n",
        "\n",
        "# Testing\n",
        "animal = Animal()\n",
        "animal.speak()\n",
        "\n",
        "dog = Dog()\n",
        "dog.speak()\n"
      ]
    },
    {
      "cell_type": "code",
      "source": [
        "#2. Write a program to create an abstract class Shape with a method area(). Derive classes Circle and Rectangle\n",
        "#from it and implement the area() method in both.\n",
        "\n",
        "from abc import ABC, abstractmethod\n",
        "import math\n",
        "\n",
        "# Abstract class\n",
        "class Shape(ABC):\n",
        "    @abstractmethod\n",
        "    def area(self):\n",
        "        pass\n",
        "\n",
        "# Derived class Circle\n",
        "class Circle(Shape):\n",
        "    def __init__(self, radius):\n",
        "        self.radius = radius\n",
        "\n",
        "    def area(self):\n",
        "        return math.pi * self.radius ** 2\n",
        "\n",
        "# Derived class Rectangle\n",
        "class Rectangle(Shape):\n",
        "    def __init__(self, length, width):\n",
        "        self.length = length\n",
        "        self.width = width\n",
        "\n",
        "    def area(self):\n",
        "        return self.length * self.width\n",
        "\n",
        "# Testing\n",
        "c = Circle(5)\n",
        "print(\"Circle area:\", c.area())\n",
        "\n",
        "r = Rectangle(4, 6)\n",
        "print(\"Rectangle area:\", r.area())\n",
        "\n",
        "\n"
      ],
      "metadata": {
        "colab": {
          "base_uri": "https://localhost:8080/"
        },
        "id": "o63sCmDKC7H9",
        "outputId": "f4a442d2-eb32-42f3-b84f-c5195d18d2b9"
      },
      "execution_count": 11,
      "outputs": [
        {
          "output_type": "stream",
          "name": "stdout",
          "text": [
            "Circle area: 78.53981633974483\n",
            "Rectangle area: 24\n"
          ]
        }
      ]
    },
    {
      "cell_type": "code",
      "source": [
        "#3. . Implement a multi-level inheritance scenario where a class Vehicle has an attribute type. Derive a class Car\n",
        "#and further derive a class ElectricCar that adds a battery attribute.\n",
        "\n",
        "# Base class\n",
        "class Vehicle:\n",
        "    def __init__(self, vehicle_type):\n",
        "        self.type = vehicle_type\n",
        "\n",
        "# Derived class\n",
        "class Car(Vehicle):\n",
        "    def __init__(self, vehicle_type, brand):\n",
        "        super().__init__(vehicle_type)\n",
        "        self.brand = brand\n",
        "\n",
        "# Further derived class\n",
        "class ElectricCar(Car):\n",
        "    def __init__(self, vehicle_type, brand, battery_capacity):\n",
        "        super().__init__(vehicle_type, brand)\n",
        "        self.battery = battery_capacity\n",
        "\n",
        "# Testing\n",
        "ecar = ElectricCar(\"Car\", \"Tesla\", \"100 kWh\")\n",
        "print(\"Type:\", ecar.type)\n",
        "print(\"Brand:\", ecar.brand)\n",
        "print(\"Battery:\", ecar.battery)\n"
      ],
      "metadata": {
        "colab": {
          "base_uri": "https://localhost:8080/"
        },
        "id": "cA48qFWPDk3X",
        "outputId": "2c2a1b41-f45e-4d38-f1ce-c8a3e5204bc3"
      },
      "execution_count": 12,
      "outputs": [
        {
          "output_type": "stream",
          "name": "stdout",
          "text": [
            "Type: Car\n",
            "Brand: Tesla\n",
            "Battery: 100 kWh\n"
          ]
        }
      ]
    },
    {
      "cell_type": "code",
      "source": [
        "#4. Demonstrate polymorphism by creating a base class Bird with a method fly(). Create two derived classes\n",
        "#Sparrow and Penguin that override the fly() method.\n",
        "\n",
        "# Base class\n",
        "class Bird:\n",
        "    def fly(self):\n",
        "        print(\"Some birds can fly\")\n",
        "\n",
        "# Derived class 1\n",
        "class Sparrow(Bird):\n",
        "    def fly(self):  # overriding\n",
        "        print(\"Sparrow can fly high\")\n",
        "\n",
        "# Derived class 2\n",
        "class Penguin(Bird):\n",
        "    def fly(self):  # overriding\n",
        "        print(\"Penguin cannot fly\")\n",
        "\n",
        "# Testing polymorphism\n",
        "birds = [Sparrow(), Penguin(), Bird()]\n",
        "\n",
        "for bird in birds:\n",
        "    bird.fly()\n"
      ],
      "metadata": {
        "colab": {
          "base_uri": "https://localhost:8080/"
        },
        "id": "EOLgDT9WEdFP",
        "outputId": "ae49cc02-2f40-48da-848a-f46e22229646"
      },
      "execution_count": 13,
      "outputs": [
        {
          "output_type": "stream",
          "name": "stdout",
          "text": [
            "Sparrow can fly high\n",
            "Penguin cannot fly\n",
            "Some birds can fly\n"
          ]
        }
      ]
    },
    {
      "cell_type": "code",
      "source": [
        "#5.  Write a program to demonstrate encapsulation by creating a class BankAccount with private attributes\n",
        "#balance and methods to deposit, withdraw, and check balance.\n",
        "\n",
        "class BankAccount:\n",
        "    def __init__(self, initial_balance):\n",
        "        self.__balance = initial_balance  # private attribute\n",
        "\n",
        "    # Method to deposit money\n",
        "    def deposit(self, amount):\n",
        "        if amount > 0:\n",
        "            self.__balance += amount\n",
        "            print(f\"Deposited: {amount}\")\n",
        "        else:\n",
        "            print(\"Deposit amount must be positive\")\n",
        "\n",
        "    # Method to withdraw money\n",
        "    def withdraw(self, amount):\n",
        "        if 0 < amount <= self.__balance:\n",
        "            self.__balance -= amount\n",
        "            print(f\"Withdrawn: {amount}\")\n",
        "        else:\n",
        "            print(\"Insufficient balance or invalid amount\")\n",
        "\n",
        "    # Method to check balance\n",
        "    def get_balance(self):\n",
        "        return self.__balance\n",
        "\n",
        "# Testing\n",
        "account = BankAccount(1000)\n",
        "account.deposit(500)\n",
        "account.withdraw(200)\n",
        "print(\"Current Balance:\", account.get_balance())\n",
        "\n",
        "# Trying to access private attribute directly\n",
        "# print(account.__balance\n",
        "\n",
        "\n"
      ],
      "metadata": {
        "colab": {
          "base_uri": "https://localhost:8080/"
        },
        "id": "IMIodAnJFf9O",
        "outputId": "02d68329-36af-4c52-f260-ca85f4d19296"
      },
      "execution_count": 14,
      "outputs": [
        {
          "output_type": "stream",
          "name": "stdout",
          "text": [
            "Deposited: 500\n",
            "Withdrawn: 200\n",
            "Current Balance: 1300\n"
          ]
        }
      ]
    },
    {
      "cell_type": "code",
      "source": [
        "#6. Demonstrate runtime polymorphism using a method play() in a base class Instrument. Derive classes Guitar\n",
        "#and Piano that implement their own version of play().\n",
        "\n",
        "# Base class\n",
        "class Instrument:\n",
        "    def play(self):\n",
        "        print(\"Playing some instrument\")\n",
        "\n",
        "# Derived class 1\n",
        "class Guitar(Instrument):\n",
        "    def play(self):  # overriding\n",
        "        print(\"Playing the guitar\")\n",
        "\n",
        "# Derived class 2\n",
        "class Piano(Instrument):\n",
        "    def play(self):  # overriding\n",
        "        print(\"Playing the piano\")\n",
        "\n",
        "# Testing runtime polymorphism\n",
        "instruments = [Guitar(), Piano(), Instrument()]\n",
        "\n",
        "for instr in instruments:\n",
        "    instr.play()\n"
      ],
      "metadata": {
        "colab": {
          "base_uri": "https://localhost:8080/"
        },
        "id": "9YfQl6vVIMaf",
        "outputId": "17307777-f422-4336-e8cb-3f74e51d1a53"
      },
      "execution_count": 15,
      "outputs": [
        {
          "output_type": "stream",
          "name": "stdout",
          "text": [
            "Playing the guitar\n",
            "Playing the piano\n",
            "Playing some instrument\n"
          ]
        }
      ]
    },
    {
      "cell_type": "code",
      "source": [
        "#7. Create a class MathOperations with a class method add_numbers() to add two numbers and a static\n",
        "#method subtract_numbers() to subtract two numbers.\n",
        "\n",
        "class MathOperations:\n",
        "    # Class method\n",
        "    @classmethod\n",
        "    def add_numbers(cls, a, b):\n",
        "        return a + b\n",
        "\n",
        "    # Static method\n",
        "    @staticmethod\n",
        "    def subtract_numbers(a, b):\n",
        "        return a - b\n",
        "\n",
        "# Testing\n",
        "print(\"Addition:\", MathOperations.add_numbers(10, 5))\n",
        "print(\"Subtraction:\", MathOperations.subtract_numbers(10, 5))\n"
      ],
      "metadata": {
        "colab": {
          "base_uri": "https://localhost:8080/"
        },
        "id": "OuB2wxECIa_R",
        "outputId": "39cc2de2-bfc6-474b-cb5e-33267947e6ed"
      },
      "execution_count": 16,
      "outputs": [
        {
          "output_type": "stream",
          "name": "stdout",
          "text": [
            "Addition: 15\n",
            "Subtraction: 5\n"
          ]
        }
      ]
    },
    {
      "cell_type": "code",
      "source": [
        "#8.  Implement a class Person with a class method to count the total number of persons created.\n",
        "\n",
        "\n",
        "class Person:\n",
        "    # Class variable to keep track of count\n",
        "    total_persons = 0\n",
        "\n",
        "    def __init__(self, name, age):\n",
        "        self.name = name\n",
        "        self.age = age\n",
        "        Person.total_persons += 1  # Increment count when a new person is created\n",
        "\n",
        "    # Class method to get total persons\n",
        "    @classmethod\n",
        "    def get_total_persons(cls):\n",
        "        return cls.total_persons\n",
        "\n",
        "# Testing\n",
        "p1 = Person(\"Alice\", 25)\n",
        "p2 = Person(\"Bob\", 30)\n",
        "p3 = Person(\"Charlie\", 22)\n",
        "\n",
        "print(\"Total persons created:\", Person.get_total_persons())\n"
      ],
      "metadata": {
        "colab": {
          "base_uri": "https://localhost:8080/"
        },
        "id": "QQNVHzcZIqZY",
        "outputId": "fdbbc208-b4c9-4db6-9e9f-15f8d533292c"
      },
      "execution_count": 17,
      "outputs": [
        {
          "output_type": "stream",
          "name": "stdout",
          "text": [
            "Total persons created: 3\n"
          ]
        }
      ]
    },
    {
      "cell_type": "code",
      "source": [
        "#9.  Write a class Fraction with attributes numerator and denominator. Override the str method to display the\n",
        "#fraction as \"numerator/denominator\".\n",
        "\n",
        "class Fraction:\n",
        "    def __init__(self, numerator, denominator):\n",
        "        self.numerator = numerator\n",
        "        self.denominator = denominator\n",
        "\n",
        "    # Override __str__ method\n",
        "    def __str__(self):\n",
        "        return f\"{self.numerator}/{self.denominator}\"\n",
        "\n",
        "# Testing\n",
        "f1 = Fraction(3, 4)\n",
        "f2 = Fraction(5, 6)\n",
        "\n",
        "print(f1)\n",
        "print(f2)\n"
      ],
      "metadata": {
        "colab": {
          "base_uri": "https://localhost:8080/"
        },
        "id": "cvV5uNw7I8Tp",
        "outputId": "1234b42b-f569-43ca-cedc-47cdec817737"
      },
      "execution_count": 18,
      "outputs": [
        {
          "output_type": "stream",
          "name": "stdout",
          "text": [
            "3/4\n",
            "5/6\n"
          ]
        }
      ]
    },
    {
      "cell_type": "code",
      "source": [
        "#10. Demonstrate operator overloading by creating a class Vector and overriding the add method to add two\n",
        "#vectors.\n",
        "\n",
        "class Vector:\n",
        "    def __init__(self, x, y):\n",
        "        self.x = x\n",
        "        self.y = y\n",
        "\n",
        "    # Overloading the + operator\n",
        "    def __add__(self, other):\n",
        "        return Vector(self.x + other.x, self.y + other.y)\n",
        "\n",
        "    # For readable output\n",
        "    def __str__(self):\n",
        "        return f\"({self.x}, {self.y})\"\n",
        "\n",
        "# Testing\n",
        "v1 = Vector(2, 3)\n",
        "v2 = Vector(4, 5)\n",
        "v3 = v1 + v2  # Uses __add__ method\n",
        "\n",
        "print(v3)\n"
      ],
      "metadata": {
        "colab": {
          "base_uri": "https://localhost:8080/"
        },
        "id": "PosQ8dhAJJ9p",
        "outputId": "cd783b4d-c9b5-4d6a-e305-185ff510098d"
      },
      "execution_count": 19,
      "outputs": [
        {
          "output_type": "stream",
          "name": "stdout",
          "text": [
            "(6, 8)\n"
          ]
        }
      ]
    },
    {
      "cell_type": "code",
      "source": [
        "#11.  Create a class Person with attributes name and age. Add a method greet() that prints \"Hello, my name is\n",
        "#{name} and I am {age} years old.\"\n",
        "\n",
        "class Person:\n",
        "    def __init__(self, name, age):\n",
        "        self.name = name\n",
        "        self.age = age\n",
        "\n",
        "    # Method to greet\n",
        "    def greet(self):\n",
        "        print(f\"Hello, my name is {self.name} and I am {self.age} years old.\")\n",
        "\n",
        "# Testing\n",
        "p1 = Person(\"Jayshree\", 24)\n",
        "p1.greet()\n",
        "\n",
        "p2 = Person(\"Minakshi\", 25)\n",
        "p2.greet()\n"
      ],
      "metadata": {
        "colab": {
          "base_uri": "https://localhost:8080/"
        },
        "id": "G2OLL7HNJbXF",
        "outputId": "ea290f29-3765-401c-9263-547f240830d5"
      },
      "execution_count": 20,
      "outputs": [
        {
          "output_type": "stream",
          "name": "stdout",
          "text": [
            "Hello, my name is Jayshree and I am 24 years old.\n",
            "Hello, my name is Minakshi and I am 25 years old.\n"
          ]
        }
      ]
    },
    {
      "cell_type": "code",
      "source": [
        "#12.  Implement a class Student with attributes name and grades. Create a method average_grade() to compute\n",
        "#the average of the grades.\n",
        "\n",
        "class Student:\n",
        "    def __init__(self, name, grades):\n",
        "        self.name = name\n",
        "        self.grades = grades  # grades should be a list of numbers\n",
        "\n",
        "    # Method to compute average grade\n",
        "    def average_grade(self):\n",
        "        if not self.grades:\n",
        "            return 0\n",
        "        return sum(self.grades) / len(self.grades)\n",
        "\n",
        "# Testing\n",
        "s1 = Student(\"Jayshree\", [85, 90, 78])\n",
        "print(f\"{s1.name}'s average grade:\", s1.average_grade())\n",
        "\n",
        "s2 = Student(\"Minakshi\", [70, 75, 80, 85])\n",
        "print(f\"{s2.name}'s average grade:\", s2.average_grade())\n"
      ],
      "metadata": {
        "colab": {
          "base_uri": "https://localhost:8080/"
        },
        "id": "TO6Pr8b0J3cu",
        "outputId": "edda8590-69f3-401e-ef11-811ffea7db72"
      },
      "execution_count": 22,
      "outputs": [
        {
          "output_type": "stream",
          "name": "stdout",
          "text": [
            "Jayshree's average grade: 84.33333333333333\n",
            "Minakshi's average grade: 77.5\n"
          ]
        }
      ]
    },
    {
      "cell_type": "code",
      "source": [
        "#13.  Create a class Rectangle with methods set_dimensions() to set the dimensions and area() to calculate the\n",
        "#area.\n",
        "\n",
        "class Rectangle:\n",
        "    def __init__(self):\n",
        "        self.length = 0\n",
        "        self.width = 0\n",
        "\n",
        "    # Method to set dimensions\n",
        "    def set_dimensions(self, length, width):\n",
        "        self.length = length\n",
        "        self.width = width\n",
        "\n",
        "    # Method to calculate area\n",
        "    def area(self):\n",
        "        return self.length * self.width\n",
        "\n",
        "# Testing\n",
        "rect = Rectangle()\n",
        "rect.set_dimensions(5, 3)\n",
        "print(\"Area of rectangle:\", rect.area())  # Output: Area of rectangle: 15\n"
      ],
      "metadata": {
        "colab": {
          "base_uri": "https://localhost:8080/"
        },
        "id": "xdd8MawFKW9x",
        "outputId": "5b964f5c-2d10-452a-8885-1e08fc36dbd0"
      },
      "execution_count": 23,
      "outputs": [
        {
          "output_type": "stream",
          "name": "stdout",
          "text": [
            "Area of rectangle: 15\n"
          ]
        }
      ]
    },
    {
      "cell_type": "code",
      "source": [
        "#14. Create a class Employee with a method calculate_salary() that computes the salary based on hours worked\n",
        "#and hourly rate. Create a derived class Manager that adds a bonus to the salary.\n",
        "\n",
        "# Base class\n",
        "class Employee:\n",
        "    def __init__(self, name, hours_worked, hourly_rate):\n",
        "        self.name = name\n",
        "        self.hours_worked = hours_worked\n",
        "        self.hourly_rate = hourly_rate\n",
        "\n",
        "    # Method to calculate salary\n",
        "    def calculate_salary(self):\n",
        "        return self.hours_worked * self.hourly_rate\n",
        "\n",
        "# Derived class\n",
        "class Manager(Employee):\n",
        "    def __init__(self, name, hours_worked, hourly_rate, bonus):\n",
        "        super().__init__(name, hours_worked, hourly_rate)\n",
        "        self.bonus = bonus\n",
        "\n",
        "    # Overriding calculate_salary to add bonus\n",
        "    def calculate_salary(self):\n",
        "        base_salary = super().calculate_salary()\n",
        "        return base_salary + self.bonus\n",
        "\n",
        "# Testing\n",
        "emp = Employee(\"Jayshree\", 40, 20)\n",
        "mgr = Manager(\"Minakshi\", 40, 25, 500)\n",
        "\n",
        "print(f\"{emp.name}'s Salary: {emp.calculate_salary()}\")\n",
        "print(f\"{mgr.name}'s Salary: {mgr.calculate_salary()}\")\n"
      ],
      "metadata": {
        "colab": {
          "base_uri": "https://localhost:8080/"
        },
        "id": "waEMLO_-KmnV",
        "outputId": "5f4a927d-9f35-4610-8ade-25d0a1ffd025"
      },
      "execution_count": 24,
      "outputs": [
        {
          "output_type": "stream",
          "name": "stdout",
          "text": [
            "Jayshree's Salary: 800\n",
            "Minakshi's Salary: 1500\n"
          ]
        }
      ]
    },
    {
      "cell_type": "code",
      "source": [
        "#15.  Create a class Product with attributes name, price, and quantity. Implement a method total_price() that\n",
        "#calculates the total price of the product.\n",
        "\n",
        "class Product:\n",
        "    def __init__(self, name, price, quantity):\n",
        "        self.name = name\n",
        "        self.price = price\n",
        "        self.quantity = quantity\n",
        "\n",
        "    # Method to calculate total price\n",
        "    def total_price(self):\n",
        "        return self.price * self.quantity\n",
        "\n",
        "# Testing\n",
        "p1 = Product(\"Laptop\", 500, 3)\n",
        "print(f\"Total price of {p1.name}: {p1.total_price()}\")\n",
        "\n",
        "p2 = Product(\"Phone\", 300, 5)\n",
        "print(f\"Total price of {p2.name}: {p2.total_price()}\")\n"
      ],
      "metadata": {
        "colab": {
          "base_uri": "https://localhost:8080/"
        },
        "id": "irRQDR4MK7pF",
        "outputId": "40aca638-4692-45a3-d327-b1a260cae970"
      },
      "execution_count": 25,
      "outputs": [
        {
          "output_type": "stream",
          "name": "stdout",
          "text": [
            "Total price of Laptop: 1500\n",
            "Total price of Phone: 1500\n"
          ]
        }
      ]
    },
    {
      "cell_type": "code",
      "source": [
        "#16. Create a class Animal with an abstract method sound(). Create two derived classes Cow and Sheep that\n",
        "#implement the sound() method.\n",
        "\n",
        "from abc import ABC, abstractmethod\n",
        "\n",
        "# Abstract base class\n",
        "class Animal(ABC):\n",
        "    @abstractmethod\n",
        "    def sound(self):\n",
        "        pass\n",
        "\n",
        "# Derived class 1\n",
        "class Cow(Animal):\n",
        "    def sound(self):\n",
        "        return \"Moo\"\n",
        "\n",
        "# Derived class 2\n",
        "class Sheep(Animal):\n",
        "    def sound(self):\n",
        "        return \"Baa\"\n",
        "\n",
        "# Testing\n",
        "animals = [Cow(), Sheep()]\n",
        "\n",
        "for animal in animals:\n",
        "    print(animal.sound())\n"
      ],
      "metadata": {
        "colab": {
          "base_uri": "https://localhost:8080/"
        },
        "id": "Mpfo1919LKtl",
        "outputId": "04330d82-c01b-4f44-8249-70542d2db0b6"
      },
      "execution_count": 26,
      "outputs": [
        {
          "output_type": "stream",
          "name": "stdout",
          "text": [
            "Moo\n",
            "Baa\n"
          ]
        }
      ]
    },
    {
      "cell_type": "code",
      "source": [
        "#17. Create a class Book with attributes title, author, and year_published. Add a method get_book_info() that\n",
        "#returns a formatted string with the book's details.\n",
        "\n",
        "class Book:\n",
        "    def __init__(self, title, author, year_published):\n",
        "        self.title = title\n",
        "        self.author = author\n",
        "        self.year_published = year_published\n",
        "\n",
        "    # Method to return book information\n",
        "    def get_book_info(self):\n",
        "        return f\"'{self.title}' by {self.author}, published in {self.year_published}\"\n",
        "\n",
        "# Testing\n",
        "b1 = Book(\"1984\", \"George Orwell\", 1949)\n",
        "print(b1.get_book_info())  # Output: '1984' by George Orwell, published in 1949\n",
        "\n",
        "b2 = Book(\"To Kill a Mockingbird\", \"Harper Lee\", 1960)\n",
        "print(b2.get_book_info())  # Output: 'To Kill a Mockingbird' by Harper Lee, published in 1960\n"
      ],
      "metadata": {
        "colab": {
          "base_uri": "https://localhost:8080/"
        },
        "id": "PESpL6n5LamD",
        "outputId": "3e02af02-2d43-4fb0-9e7b-3a031683cec0"
      },
      "execution_count": 27,
      "outputs": [
        {
          "output_type": "stream",
          "name": "stdout",
          "text": [
            "'1984' by George Orwell, published in 1949\n",
            "'To Kill a Mockingbird' by Harper Lee, published in 1960\n"
          ]
        }
      ]
    },
    {
      "cell_type": "code",
      "source": [
        "#18.  Create a class House with attributes address and price. Create a derived class Mansion that adds an\n",
        "#attribute number_of_rooms.\n",
        "\n",
        "# Base class\n",
        "class House:\n",
        "    def __init__(self, address, price):\n",
        "        self.address = address\n",
        "        self.price = price\n",
        "\n",
        "# Derived class\n",
        "class Mansion(House):\n",
        "    def __init__(self, address, price, number_of_rooms):\n",
        "        super().__init__(address, price)  # Initialize base class attributes\n",
        "        self.number_of_rooms = number_of_rooms\n",
        "\n",
        "# Testing\n",
        "house = House(\"123 Main St\", 250000)\n",
        "mansion = Mansion(\"456 Luxury Rd\", 1500000, 10)\n",
        "\n",
        "print(f\"House Address: {house.address}, Price: {house.price}\")\n",
        "print(f\"Mansion Address: {mansion.address}, Price: {mansion.price}, Rooms: {mansion.number_of_rooms}\")\n"
      ],
      "metadata": {
        "colab": {
          "base_uri": "https://localhost:8080/"
        },
        "id": "n62lJEnyLotQ",
        "outputId": "a09a22f1-437f-4b6c-a704-91178f16899e"
      },
      "execution_count": 28,
      "outputs": [
        {
          "output_type": "stream",
          "name": "stdout",
          "text": [
            "House Address: 123 Main St, Price: 250000\n",
            "Mansion Address: 456 Luxury Rd, Price: 1500000, Rooms: 10\n"
          ]
        }
      ]
    }
  ]
}