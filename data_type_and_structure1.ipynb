{
  "nbformat": 4,
  "nbformat_minor": 0,
  "metadata": {
    "colab": {
      "provenance": []
    },
    "kernelspec": {
      "name": "python3",
      "display_name": "Python 3"
    },
    "language_info": {
      "name": "python"
    }
  },
  "cells": [
    {
      "cell_type": "markdown",
      "source": [
        "data type and structure"
      ],
      "metadata": {
        "id": "WTmNSTqCKnoX"
      }
    },
    {
      "cell_type": "markdown",
      "source": [
        "1. What are data structures, and why are they important?\n",
        "   -> A data structure is a specialized way of organizing, managing, and storing data in a computer so it can be used efficiently. In simple words, it defines how data is arranged in memory and how operations (like searching, inserting, deleting, updating, or traversing) can be performed on it.\n",
        "  Why are Data Structures Important?\n",
        "  1.Efficiency:\n",
        "  The right data structure improves performance. For example, searching in an array (O(n)) is slower than searching in a hash table (O(1) average case).\n",
        "  2.Memory Management:\n",
        "  - They help in using memory optimally (e.g., linked lists avoid memory wastage compared to fixed-size arrays).\n",
        "  3.Reusability:\n",
        "  Standard data structures (like stacks, queues, graphs) provide reusable solutions for common problems.\n",
        "  4.Data Organization:\n",
        "  - They give a systematic way to organize data for easy processing (e.g., trees for hierarchical data, graphs for networks).\n",
        "\n",
        "2.  Explain the difference between mutable and immutable data types with examples.\n",
        "   -> Mutable Data Types:\n",
        "     Definition: Data types whose values can be changed after creation.\n",
        "     Examples:\n",
        "           Lists\n",
        "          Dictionaries\n",
        "          Sets\n",
        "      Key Characteristics:\n",
        "      Changes are made in place without creating a new object.\n",
        "      Multiple references can point to the same object; changes via one reference affect all.\n",
        "      Not inherently thread-safe.\n",
        "      \n",
        "      Immutable Data Types:\n",
        "      Definition: Data types whose values cannot be changed after creation.\n",
        "      Examples:\n",
        "            Integers\n",
        "            Strings\n",
        "            Tuples\n",
        "            Frozen sets\n",
        "      Key Characteristics:\n",
        "      Any modification creates a new object; the original remains unchanged.\n",
        "      Multiple references can point to the same object; changes via one reference do not affect others.\n",
        "      Inherently thread-safe.\n",
        "\n",
        "3. What are the main differences between lists and tuples in Python?\n",
        "   -> -List\n",
        "\n",
        "        - Mutable (can change after creation\n",
        "\n",
        "        - [ ] (square brackets)\n",
        "\n",
        "        - Can add, remove, update elements\n",
        "\n",
        "        - Slower (because mutable, requires more memory handling)\n",
        "\n",
        "        - Uses more memory\n",
        "\n",
        "        - Slightly slower\n",
        "\n",
        "        - When data may need modification (e.g., dynamic lists of items)\n",
        "\n",
        "       -  When data may need modification (e.g., dynamic lists of items)\n",
        "\n",
        "  Example\n",
        "\n",
        "      my_list = [10, 20, 30]\n",
        "      my_list[1] = 200       # Modifying element\n",
        "      my_list.append(40)     # Adding element\n",
        "      print(my_list)\n",
        "\n",
        "       -Tuple\n",
        "\n",
        "         - ❌ Immutable (cannot change after creation)\n",
        "\n",
        "         - ( ) (parentheses)\n",
        "\n",
        "         - Cannot add, remove, or update elements\n",
        "\n",
        "         - Faster (because immutable)\n",
        "\n",
        "         - Uses less memory\n",
        "\n",
        "         - Faster due to immutability\n",
        "\n",
        "         - When data should not change (e.g., fixed configuration, coordinates)\n",
        "\n",
        "         - Few (count(), index())\n",
        " Example\n",
        "\n",
        "     my_tuple = (10, 20, 30)\n",
        "     # my_tuple[1] = 200  \n",
        "     print(my_tuple)\n",
        "\n",
        "4.  Describe how dictionaries store data.\n",
        "     -> Dictionaries in Python\n",
        "\n",
        "     A dictionary is a built-in data structure that stores data as key value pairs.\n",
        "   Example:\n",
        "\n",
        "   my_dict = {\"apple\": 10, \"banana\": 20}\n",
        "   print(my_dict[\"apple\"])   \n",
        "   my_dict[\"banana\"] = 25    \n",
        "   my_dict[\"cherry\"] = 30    \n",
        "   print(my_dict)\n",
        "   Output: {'apple': 10, 'banana': 25, 'cherry': 30}\n",
        "\n",
        "5. Why might you use a set instead of a list in Python?\n",
        "     -> Key Reasons to Use a Set Instead of a List\n",
        "     1.Ensures Uniqueness\n",
        "      Sets automatically eliminate duplicate elements.\n",
        "      Useful for operations requiring unique items, such as removing duplicates from a list.\n",
        "     2.Faster Membership Testing\n",
        "      Checking if an item exists (x in s) is generally faster in sets than in lists due to hash-based implementation.\n",
        "      This results in average time complexity of O(1) for sets versus O(n) for lists.\n",
        "     3.Stack Overflow\n",
        "      Optimized for Mathematical Set Operations\n",
        "      Supports operations like union, intersection, difference, and symmetric difference efficiently.\n",
        "     4.Unordered Collection\n",
        "      Sets do not maintain any order of elements.\n",
        "      Suitable when order is not important, and you need to focus on the presence or absence of elements.\n",
        "\n",
        "6. What is a string in Python, and how is it different from a list?\n",
        "     -> Definition: A string is an immutable sequence of characters enclosed in single (') or double (\") quotes.\n",
        "     Example:\n",
        "     greeting = \"Hello, World!\"\n",
        "   Key Differences Between Strings and Lists in Python\n",
        "\n",
        "Definition:\n",
        "   String: An immutable sequence of characters enclosed in single (') or double (\") quotes.\n",
        "   List: A mutable ordered collection of items enclosed in square brackets ([]).\n",
        "Mutability\n",
        "   String: Immutable; once created, the content cannot be changed.\n",
        "   List: Mutable; elements can be modified after creation.\n",
        "Data Types\n",
        "   String: Contains only characters (textual data).\n",
        "   List: Can contain items of any data type, including numbers, strings, and other lists.\n",
        "Indexing and Slicing\n",
        "   String: Supports indexing and slicing to access substrings.\n",
        "   List: Supports indexing and slicing to access sublists.\n",
        "Methods\n",
        "  String: Has string-specific methods like .upper(), .replace(), and .split().\n",
        "  List: Has list-specific methods like .append(), .remove(), and .extend().\n",
        "Use Cases\n",
        "  String: Used for representing and manipulating textual data.\n",
        "  List: Used for storing a collection of items that may change over time.\n",
        "\n",
        "7. How do tuples ensure data integrity in Python?\n",
        "     -> How Tuples Ensure Data Integrity in Python\n",
        "Immutability Guarantees Consistency\n",
        "  Once a tuple is created, its contents cannot be altered—no additions, deletions, or modifications. This ensures that the data remains consistent throughout the program's execution.\n",
        "Prevents Unintended Side Effects\n",
        " The inability to modify a tuple after its creation eliminates the risk of unintended side effects that can occur when mutable data structures are altered unexpectedly.\n",
        "Hashability for Use as Dictionary Keys\n",
        " Tuples are hashable due to their immutability, allowing them to be used as keys in dictionaries. This is not possible with lists, which are mutable and thus unhashable.\n",
        "Optimized for Performance\n",
        " The fixed size and immutability of tuples allow Python to optimize their memory usage and access times more effectively than lists, leading to improved performance in applications that require frequent access to data.\n",
        "\n",
        "8. What is a hash table, and how does it relate to dictionaries in Python?\n",
        "   -> What Is a Hash Table?\n",
        " Definition: A hash table is a data structure that stores key-value pairs, enabling efficient retrieval, insertion, and deletion operations. It uses a hash function to compute an index (hash code) into an array of buckets or slots, from which the desired value can be found.\n",
        " How Hash Tables Relate to Python Dictionaries:\n",
        " Underlying Data Structure:\n",
        "Python's built-in dict is implemented using a hash table. This means that dictionaries in Python leverage the principles of hash tables to store and retrieve data efficiently.\n",
        "Key-Value Pair Storage:\n",
        "Both hash tables and Python dictionaries store data as key-value pairs, allowing for fast lookups, insertions, and deletions.\n",
        "Hash Function Usage:\n",
        "In both structures, keys are processed through a hash function to compute an index where the corresponding value is stored. This index determines the location of the value in memory.\n",
        "Collision Handling:\n",
        "When two keys hash to the same index (a collision), both hash tables and Python dictionaries employ strategies to resolve these collisions, ensuring data integrity and efficient access.\n",
        "\n",
        "9.  Can lists contain different data types in Python?\n",
        "  -> In Python, lists can contain elements of different data types because Python is a dynamically typed language. Unlike arrays in many other languages (which require a fixed type), Python lists can hold a mix of integers, floats, strings, booleans, objects, even other lists or dictionaries.\n",
        "\n",
        "Example: Different Data Types in a List\n",
        "my_list = [10, 3.14, \"Hello\", True, [1, 2, 3], {\"a\": 1, \"b\": 2}]\n",
        "print(my_list)\n",
        "Output: [10, 3.14, 'Hello', True, [1, 2, 3], {'a': 1, 'b': 2}]\n",
        "\n",
        "10.  Explain why strings are immutable in Python?\n",
        "     -> Reasons for String Immutability in Python:\n",
        "Memory Efficiency\n",
        " Immutability allows Python to optimize memory usage by reusing string objects. Since strings cannot be altered, the interpreter can safely share references to the same string in multiple places.\n",
        "Hashing Integrity\n",
        " Strings are commonly used as keys in dictionaries and elements in sets. Their immutability ensures that their hash value remains constant, which is crucial for the integrity of hash-based collections.\n",
        "Thread Safety\n",
        " Immutability makes strings inherently thread-safe. Multiple threads can safely access and use the same string without the risk of one thread modifying it while another is using it.\n",
        "Simplified Debugging and Maintenance\n",
        " Since string values cannot be changed after creation, it becomes easier to track and understand the flow of data, leading to fewer bugs and easier maintenance.\n",
        "\n",
        "11.  What advantages do dictionaries offer over lists for certain tasks?\n",
        "      -> Advantages of Dictionaries Over Lists:\n",
        "  Faster Lookups with Keys\n",
        "Dictionaries provide average-case constant time complexity (O(1)) for lookups by key, while lists require linear time (O(n)) to search for an item. This makes dictionaries more efficient for retrieving values associated with specific keys.\n",
        "Direct Access via Keys\n",
        "Dictionaries allow direct access to values using unique keys, eliminating the need for indexing or searching through elements, which is necessary in lists.\n",
        "No Duplicate Keys\n",
        "In dictionaries, each key is unique, ensuring that each value is associated with a distinct identifier. In contrast, lists can contain duplicate values, which may require additional logic to handle uniqueness.\n",
        "Efficient Data Representation\n",
        "Dictionaries are ideal for representing mappings, such as associating student names with their grades or product IDs with prices, providing a clear and efficient way to store and retrieve related data.\n",
        "\n",
        "12.  Describe a scenario where using a tuple would be preferable over a list?\n",
        "      ->When to Use a Tuple Instead of a List:\n",
        "Immutable Data\n",
        "  Use a tuple when you need to store data that should not change after creation, ensuring data integrity and preventing accidental modifications.\n",
        "Dictionary Keys\n",
        "   Tuples can be used as keys in dictionaries because they are hashable, unlike lists. This is particularly useful for creating composite keys.\n",
        "Performance Considerations\n",
        "  Tuples are generally faster than lists for iteration and require less memory, making them suitable for performance-critical applications.\n",
        "Data Integrity in Multi-threaded Environments\n",
        "  In multi-threaded applications, using tuples ensures that the data remains unchanged, preventing potential issues arising from concurrent modifications.\n",
        "\n",
        "13. How do sets handle duplicate values in Python?\n",
        "     -> Key Points:\n",
        "1.Automatic Removal of Duplicates\n",
        " Sets inherently discard duplicate entries. If you attempt to add a duplicate item to a set, Python will ignore the addition, ensuring that each element appears only once.\n",
        " Example:\n",
        "fruits = {\"apple\", \"banana\", \"cherry\", \"apple\"}\n",
        "print(fruits)\n",
        "# Output: {'banana', 'cherry', 'apple'}\n",
        "2.Unordered Collection\n",
        "Sets are unordered, meaning that the items do not have a defined order. The order in which items are stored and retrieved is not guaranteed and may vary each time the program is run.\n",
        "3.Efficient Membership Testing\n",
        "Sets are implemented using hash tables, allowing for average-case constant time complexity (O(1)) for membership tests. This makes checking for the existence of an element in a set faster compared to lists.\n",
        "4.Use Cases for Sets\n",
        "Sets are particularly useful when you need to ensure that a collection contains only unique items, such as:\n",
        "Removing duplicates from a list:\n",
        "numbers = [1, 2, 2, 3, 4, 5, 5]\n",
        "unique_numbers = set(numbers)\n",
        "print(unique_numbers)\n",
        "# Output: {1, 2, 3, 4, 5}\n",
        "\n",
        "14.  How does the “in” keyword work differently for lists and dictionaries?\n",
        "      -> Behavior of in Keyword:\n",
        "1.Lists\n",
        " Checks for Element Presence: When used with a list, the in keyword checks if the specified value exists as an element within the list.\n",
        "Example:\n",
        "fruits = [\"apple\", \"banana\", \"cherry\"]\n",
        "print(\"banana\" in fruits)  # Output: True\n",
        "print(\"orange\" in fruits)  # Output: False\n",
        " Time Complexity: The operation has an average-case time complexity of O(n), where n is the number of elements in the list, because it may need to check each element.\n",
        "\n",
        "2.Dictionaries\n",
        " Checks for Key Presence: In dictionaries, the in keyword checks if the specified key exists within the dictionary, not the value.\n",
        "Examples:\n",
        "person = {\"name\": \"Alice\", \"age\": 30}\n",
        "print(\"name\" in person)  # Output: True\n",
        "print(\"Alice\" in person)  # Output: False\n",
        " Time Complexity: The operation has an average-case time complexity of O(1), meaning it can check for the presence of a key in constant time due to the underlying hash table implementation.\n",
        "\n",
        "15. Can you modify the elements of a tuple? Explain why or why not?\n",
        "     -> No, you cannot modify the elements of a tuple in Python. Tuples are immutable data structures, meaning their contents cannot be changed after they are created. Attempting to modify an element directly will result in a TypeError.\n",
        "\n",
        "Can You Modify a Tuple?\n",
        "While you cannot modify a tuple directly, you can create a new tuple by combining existing tuples or by converting a tuple to a list, making changes, and then converting it back to a tuple. For example:\n",
        "original_tuple = (10, 20, 30)\n",
        "modified_tuple = original_tuple[:1] + (99,) + original_tuple[2:]\n",
        "print(modified_tuple)  # Output: (10, 99, 30)\n",
        "This approach creates a new tuple with the desired modifications, leaving the original tuple unchanged.\n",
        "\n",
        "16. What is a nested dictionary, and give an example of its use case?\n",
        "     -> A nested dictionary in Python is a dictionary where each key maps to another dictionary, allowing you to represent hierarchical or multi-level data structures. This is particularly useful for organizing complex data in a structured way.\n",
        "\n",
        "Use Cases for Nested Dictionaries:\n",
        "1.storing Student Information\n",
        "Organize data such as names, ages, and grades for multiple students.\n",
        "Example:\n",
        "students = {\n",
        "    'student1': {'name': 'Alice', 'age': 20, 'grades': {'math': 'A', 'science': 'B'}},\n",
        "    'student2': {'name': 'Bob', 'age': 22, 'grades': {'math': 'B', 'science': 'A'}}\n",
        "}\n",
        "2.Employee Records by Department\n",
        "Maintain employee details categorized by department.\n",
        "Example:\n",
        "employees = {\n",
        "    'HR': {'emp1': {'name': 'Janice', 'age': 25}, 'emp2': {'name': 'Jake', 'age': 30}},\n",
        "    'IT': {'emp3': {'name': 'Sam', 'age': 28}, 'emp4': {'name': 'Kim', 'age': 35}}\n",
        "}\n",
        "\n",
        "17.Describe the time complexity of accessing elements in a dictionary.\n",
        "     -> In Python, dictionaries are implemented using hash tables, which allow for efficient data retrieval. Here's a breakdown of the time complexity for accessing elements in a dictionary:\n",
        "1.Average-Case Time Complexity: O(1)\n",
        " Direct Access: Retrieving a value by its key is typically an O(1) operation. This means that, on average, the time it takes to access an element does not depend on the size of the dictionary.\n",
        "Example:\n",
        "  my_dict = {'a': 10, 'b': 20}\n",
        "  value = my_dict['a']  # O(1) on average\n",
        "Reason: Dictionaries use a hash table internally. When you access a key, Python computes the hash of the key and uses it to determine the index where the corresponding value is stored. This direct indexing leads to constant-time retrieval.\n",
        "2.Worst-Case Time Complexity: O(n)\n",
        " Collision Handling: In rare cases, multiple keys may hash to the same index, causing a collision. If many such collisions occur, the dictionary may degrade to a linear search, resulting in O(n) time complexity for access operations.\n",
        " Example:\n",
        "   # Hypothetical scenario with many collisions\n",
        "  my_dict = {key: value for key, value in zip(large_key_list, value_list)}\n",
        "  value = my_dict['some_key']  # O(n) in worst case\n",
        "Mitigation: Python's hash table implementation is designed to minimize collisions. The worst-case scenario is uncommon and typically arises only under specific conditions.\n",
        "\n",
        "18. In what situations are lists preferred over dictionaries?\n",
        "     -> When to Use Lists Instead of Dictionaries:\n",
        "1.Ordered Collection of Items\n",
        "Use a list when the order of elements matters. Lists maintain the sequence in which items are added, allowing for ordered operations like sorting and indexing.\n",
        "2.Access by Index\n",
        "If you need to access elements by their position, lists provide efficient index-based access. This is particularly useful when the position of an element is significant.\n",
        "3.Allowing Duplicates\n",
        "Lists can store duplicate elements, making them suitable for scenarios where repetition is necessary, such as counting occurrences or handling non-unique data.\n",
        "4.Sequential Iteration\n",
        "When you need to iterate over elements in a specific order, lists are ideal due to their ordered nature. This is beneficial for tasks like processing items in the sequence they were added.\n",
        "5.Dynamic Array Operations\n",
        "Lists support various operations like append, insert, and remove, allowing for dynamic modification of the collection. This flexibility is useful when the dataset changes over time.\n",
        "\n",
        "19.Why are dictionaries considered unordered, and how does that affect data retrieval?\n",
        "   ->Why Are Dictionaries Considered Unordered?\n",
        "1.Hash Table Implementation\n",
        "Dictionaries in Python are implemented using hash tables. This means that each key is hashed to determine its storage location. The order of keys is not preserved because the primary goal is to optimize for fast lookups, insertions, and deletions.\n",
        "2.No Indexing or Slicing\n",
        "Unlike lists or tuples, dictionaries do not support indexing or slicing. You cannot access elements by their position; instead, you access values via their unique keys.\n",
        "3.Insertion Order Not Guaranteed\n",
        "In Python versions prior to 3.7, dictionaries did not guarantee the order of elements. The order in which items were inserted was not necessarily the order in which they were retrieved.\n",
        "\n",
        "Impact on Data Retrieval:\n",
        "1.Efficient Key-Based Access\n",
        "The unordered nature allows dictionaries to provide average-case constant time complexity (O(1)) for lookups, insertions, and deletions. This efficiency is due to the direct hashing mechanism.\n",
        "2.Unpredictable Iteration Order\n",
        "Before Python 3.7, iterating over a dictionary did not guarantee any specific order. This could lead to inconsistent results when iterating over dictionaries in different runs of the program.\n",
        "\n",
        "20. Explain the difference between a list and a dictionary in terms of data retrieval.\n",
        "     -> In Python, lists and dictionaries are both versatile data structures, but they differ significantly in how they handle data retrieval. Here's a detailed comparison:\n",
        "1)Lists: Ordered Collections with Index-Based Access:\n",
        "Access by Index: Elements are retrieved using their position (index) in the list.\n",
        "Example:\n",
        "  my_list = ['apple', 'banana', 'cherry']\n",
        "  print(my_list[1])  # Output: banana\n",
        "Time Complexity: Accessing an element by index is an O(1) operation. However, searching for an element by value requires O(n) time, where n is the number of elements in the list.\n",
        "Example:\n",
        "   if 'banana' in my_list:  # O(n) on average\n",
        "      print(\"Found\")\n",
        "Use Case: Ideal for maintaining an ordered collection of items where the position of each item is significant.\n",
        "2) Dictionaries: Unordered Collections with Key-Based Access\n",
        "Access by Key: Elements are stored as key-value pairs and accessed using unique keys.\n",
        "Example:\n",
        "  my_dict = {'a': 1, 'b': 2, 'c': 3}\n",
        "  print(my_dict['b'])  # Output: 2\n",
        "Time Complexity: Retrieving a value by its key is an O(1) operation on average, thanks to the underlying hash table implementation.\n",
        "Example:\n",
        "  if 'b' in my_dict:  # O(1) on average\n",
        "      print(\"Found\")\n",
        "Use Case: Best suited for scenarios where quick lookups, insertions, and deletions are needed, and each item is uniquely identified by a key.\n",
        "\n",
        "  \n",
        "\n",
        "\n",
        "   \n",
        "  \n",
        "      \n"
      ],
      "metadata": {
        "id": "15Wj1iqfKw-c"
      }
    },
    {
      "cell_type": "code",
      "execution_count": 2,
      "metadata": {
        "id": "vFgcuqWKJsuQ",
        "colab": {
          "base_uri": "https://localhost:8080/"
        },
        "outputId": "882e3b67-c138-499a-9f26-67a4c3a9b937"
      },
      "outputs": [
        {
          "output_type": "stream",
          "name": "stdout",
          "text": [
            "Jayshree\n"
          ]
        }
      ],
      "source": [
        "#1.Write a code to create a string with your name and print it.\n",
        "name = \"Jayshree\"\n",
        "\n",
        "print(name)"
      ]
    },
    {
      "cell_type": "code",
      "source": [
        "#2.Write a code to find the length of the string \"Hello World\".\n",
        "string = \"Hello World\"\n",
        "\n",
        "length = len(string)\n",
        "\n",
        "print(length)"
      ],
      "metadata": {
        "colab": {
          "base_uri": "https://localhost:8080/"
        },
        "id": "W7z-6lFIeVXm",
        "outputId": "5e53115f-7a1d-4d92-8fdf-e27df9390f83"
      },
      "execution_count": 3,
      "outputs": [
        {
          "output_type": "stream",
          "name": "stdout",
          "text": [
            "11\n"
          ]
        }
      ]
    },
    {
      "cell_type": "code",
      "source": [
        "#3.Write a code to slice the first 3 characters from the string \"Python Programming\".\n",
        "\n",
        "text = \"Python Programming\"\n",
        "first_three_chars = text[:3]\n",
        "print(first_three_chars)\n"
      ],
      "metadata": {
        "colab": {
          "base_uri": "https://localhost:8080/"
        },
        "id": "N32eQUSbeh8c",
        "outputId": "5d5c0ff7-aa90-4863-c049-71d0b24f4756"
      },
      "execution_count": 4,
      "outputs": [
        {
          "output_type": "stream",
          "name": "stdout",
          "text": [
            "Pyt\n"
          ]
        }
      ]
    },
    {
      "cell_type": "code",
      "source": [
        "#4.Write a code to convert the string \"hello\" to uppercase.\n",
        "\n",
        "text = \"hello\"\n",
        "uppercase_text = text.upper()\n",
        "print(uppercase_text)\n"
      ],
      "metadata": {
        "colab": {
          "base_uri": "https://localhost:8080/"
        },
        "id": "aJY1-GUQe4Aa",
        "outputId": "996aefa4-63c5-4df8-d93b-3da19936d65b"
      },
      "execution_count": 5,
      "outputs": [
        {
          "output_type": "stream",
          "name": "stdout",
          "text": [
            "HELLO\n"
          ]
        }
      ]
    },
    {
      "cell_type": "code",
      "source": [
        "#5. Write a code to replace the word \"apple\" with \"orange\" in the string \"I like apple\".\n",
        "\n",
        "text = \"I like apple\"\n",
        "new_text = text.replace(\"apple\", \"orange\")\n",
        "print(new_text)\n"
      ],
      "metadata": {
        "colab": {
          "base_uri": "https://localhost:8080/"
        },
        "id": "FvAaztPyfW19",
        "outputId": "7fe9d014-8e1c-4519-f85b-f92858c56bdb"
      },
      "execution_count": 6,
      "outputs": [
        {
          "output_type": "stream",
          "name": "stdout",
          "text": [
            "I like orange\n"
          ]
        }
      ]
    },
    {
      "cell_type": "code",
      "source": [
        "#6. Write a code to create a list with numbers 1 to 5 and print it.\n",
        "\n",
        "\n",
        "numbers = [1, 2, 3, 4, 5]\n",
        "print(numbers)\n",
        "\n"
      ],
      "metadata": {
        "colab": {
          "base_uri": "https://localhost:8080/"
        },
        "id": "hDw9PI6DfgFt",
        "outputId": "4991185f-96ff-4945-eff3-0bacf2ad5255"
      },
      "execution_count": 7,
      "outputs": [
        {
          "output_type": "stream",
          "name": "stdout",
          "text": [
            "[1, 2, 3, 4, 5]\n"
          ]
        }
      ]
    },
    {
      "cell_type": "code",
      "source": [
        "#7. Write a code to append the number 10 to the list [1, 2, 3, 4].\n",
        "\n",
        "my_list = [1, 2, 3, 4]\n",
        "my_list.append(10)\n",
        "print(my_list)"
      ],
      "metadata": {
        "colab": {
          "base_uri": "https://localhost:8080/"
        },
        "id": "kcdlyckJm0AC",
        "outputId": "1e425084-80ad-4f97-ee50-4cd05647856b"
      },
      "execution_count": 8,
      "outputs": [
        {
          "output_type": "stream",
          "name": "stdout",
          "text": [
            "[1, 2, 3, 4, 10]\n"
          ]
        }
      ]
    },
    {
      "cell_type": "code",
      "source": [
        "#8.  Write a code to remove the number 3 from the list [1, 2, 3, 4, 5].\n",
        "\n",
        "my_list = [1, 2, 3, 4, 5]\n",
        "my_list.remove(3)\n",
        "print(my_list)"
      ],
      "metadata": {
        "colab": {
          "base_uri": "https://localhost:8080/"
        },
        "id": "UP8ENwbanSFD",
        "outputId": "8657482b-29ad-478b-81fd-3ee6f2cc0a0d"
      },
      "execution_count": 9,
      "outputs": [
        {
          "output_type": "stream",
          "name": "stdout",
          "text": [
            "[1, 2, 4, 5]\n"
          ]
        }
      ]
    },
    {
      "cell_type": "code",
      "source": [
        "#9. Write a code to access the second element in the list ['a', 'b', 'c', 'd'].\n",
        "\n",
        "my_list = ['a', 'b', 'c', 'd']\n",
        "second_element = my_list[1]\n",
        "print(second_element)"
      ],
      "metadata": {
        "colab": {
          "base_uri": "https://localhost:8080/"
        },
        "id": "s9eH_gxsnfLD",
        "outputId": "03f18d54-f9db-4709-f3b6-1715932e171d"
      },
      "execution_count": 10,
      "outputs": [
        {
          "output_type": "stream",
          "name": "stdout",
          "text": [
            "b\n"
          ]
        }
      ]
    },
    {
      "cell_type": "code",
      "source": [
        "#10. Write a code to reverse the list [10, 20, 30, 40, 50].\n",
        "\n",
        "my_List = [10, 20, 30, 40, 50]\n",
        "reversed_list = my_list[::-1]\n",
        "print(reversed_list)"
      ],
      "metadata": {
        "colab": {
          "base_uri": "https://localhost:8080/"
        },
        "id": "wQ8kEjUhnucQ",
        "outputId": "2284f29a-94be-4348-ea3b-749ffeffcea3"
      },
      "execution_count": 11,
      "outputs": [
        {
          "output_type": "stream",
          "name": "stdout",
          "text": [
            "['d', 'c', 'b', 'a']\n"
          ]
        }
      ]
    },
    {
      "cell_type": "code",
      "source": [
        "#11. Write a code to create a tuple with the elements 100, 200, 300 and print it.\n",
        "\n",
        "my_tuple = (100, 200, 300)\n",
        "print(my_tuple)"
      ],
      "metadata": {
        "colab": {
          "base_uri": "https://localhost:8080/"
        },
        "id": "Apv09yeun8Hh",
        "outputId": "979e751d-ba38-464c-a4aa-1fb2d04989de"
      },
      "execution_count": 12,
      "outputs": [
        {
          "output_type": "stream",
          "name": "stdout",
          "text": [
            "(100, 200, 300)\n"
          ]
        }
      ]
    },
    {
      "cell_type": "code",
      "source": [
        "#12.  Write a code to access the second-to-last element of the tuple ('red', 'green', 'blue', 'yellow').\n",
        "\n",
        "my_tuple = ('red', 'green', 'blue', 'yellow')\n",
        "\n",
        "second_to_last_element = my_tuple[-2]\n",
        "\n",
        "print(second_to_last_element)"
      ],
      "metadata": {
        "colab": {
          "base_uri": "https://localhost:8080/"
        },
        "id": "znVs4aiEoGRu",
        "outputId": "d6e3e70c-8aed-4872-c4ef-057a3f1655be"
      },
      "execution_count": 15,
      "outputs": [
        {
          "output_type": "stream",
          "name": "stdout",
          "text": [
            "blue\n"
          ]
        }
      ]
    },
    {
      "cell_type": "code",
      "source": [
        "#13. Write a code to find the minimum number in the tuple (10, 20, 5, 15).\n",
        "\n",
        "my_tuple = (10, 20, 5, 15)\n",
        "minimum_number = min(my_tuple)\n",
        "print(minimum_number)\n",
        "\n"
      ],
      "metadata": {
        "colab": {
          "base_uri": "https://localhost:8080/"
        },
        "id": "2ClbRkHGofrC",
        "outputId": "d5688ac4-04d6-4049-8286-de0f6ddeb39c"
      },
      "execution_count": 16,
      "outputs": [
        {
          "output_type": "stream",
          "name": "stdout",
          "text": [
            "5\n"
          ]
        }
      ]
    },
    {
      "cell_type": "code",
      "source": [
        "#14.  Write a code to find the index of the element \"cat\" in the tuple ('dog', 'cat', 'rabbit').\n",
        "\n",
        "my_tuple = ('dog', 'cat', 'rabbit')\n",
        "index_of_cat = my_tuple.index('cat')\n",
        "print(index_of_cat)"
      ],
      "metadata": {
        "colab": {
          "base_uri": "https://localhost:8080/"
        },
        "id": "Yi_gJaEIpS3o",
        "outputId": "7b6f9bb7-d148-46dc-cd13-66d9107bce49"
      },
      "execution_count": 17,
      "outputs": [
        {
          "output_type": "stream",
          "name": "stdout",
          "text": [
            "1\n"
          ]
        }
      ]
    },
    {
      "cell_type": "code",
      "source": [
        "#15. Write a code to create a tuple containing three different fruits and check if \"kiwi\" is in it.\n",
        "\n",
        "fruits_tuple = (\"apple\", \"banana\", \"cherry\")\n",
        "is_kiwi_in_tuple = \"kiwi\" in fruits_tuple\n",
        "print(is_kiwi_in_tuple)"
      ],
      "metadata": {
        "colab": {
          "base_uri": "https://localhost:8080/"
        },
        "id": "IMuyaPwwpkqk",
        "outputId": "ed83feec-2c3b-41c1-d08d-feb58b63d945"
      },
      "execution_count": 18,
      "outputs": [
        {
          "output_type": "stream",
          "name": "stdout",
          "text": [
            "False\n"
          ]
        }
      ]
    },
    {
      "cell_type": "code",
      "source": [
        "#16.  Write a code to create a set with the elements 'a', 'b', 'c' and print it.\n",
        "\n",
        "my_set = {'a', 'b', 'c'}\n",
        "print(my_set)"
      ],
      "metadata": {
        "colab": {
          "base_uri": "https://localhost:8080/"
        },
        "id": "eV1mqsGcp-Ci",
        "outputId": "e8b20d8b-3204-431a-d9a9-0e13617b5fdb"
      },
      "execution_count": 19,
      "outputs": [
        {
          "output_type": "stream",
          "name": "stdout",
          "text": [
            "{'a', 'b', 'c'}\n"
          ]
        }
      ]
    },
    {
      "cell_type": "code",
      "source": [
        "#17. Write a code to clear all elements from the set {1, 2, 3, 4, 5}.\n",
        "\n",
        "my_set = {1, 2, 3, 4, 5}\n",
        "my_set.clear()\n",
        "print(my_set)"
      ],
      "metadata": {
        "colab": {
          "base_uri": "https://localhost:8080/"
        },
        "id": "pEM2AMWUqIVI",
        "outputId": "52ad89a7-5cee-4672-a7e8-7dd27de27f03"
      },
      "execution_count": 21,
      "outputs": [
        {
          "output_type": "stream",
          "name": "stdout",
          "text": [
            "set()\n"
          ]
        }
      ]
    },
    {
      "cell_type": "code",
      "source": [
        "#18.  Write a code to remove the element 4 from the set {1, 2, 3, 4}.\n",
        "\n",
        "my_set = {1, 2, 3, 4}\n",
        "my_set.remove(4)\n",
        "print(my_set)"
      ],
      "metadata": {
        "colab": {
          "base_uri": "https://localhost:8080/"
        },
        "id": "RVzk3wbZqbGU",
        "outputId": "439d848b-925c-4a11-cfa9-52a6905db3b2"
      },
      "execution_count": 22,
      "outputs": [
        {
          "output_type": "stream",
          "name": "stdout",
          "text": [
            "{1, 2, 3}\n"
          ]
        }
      ]
    },
    {
      "cell_type": "code",
      "source": [
        "#19.  Write a code to find the union of two sets {1, 2, 3} and {3, 4, 5}.\n",
        "\n",
        "set1 = {1, 2, 3}\n",
        "set2 = {3, 4, 5}\n",
        "union_set = set1.union(set2)\n",
        "print(union_set)"
      ],
      "metadata": {
        "colab": {
          "base_uri": "https://localhost:8080/"
        },
        "id": "oUea6EnsrKqx",
        "outputId": "d8603970-bb39-4239-b0ae-de86115b977e"
      },
      "execution_count": 24,
      "outputs": [
        {
          "output_type": "stream",
          "name": "stdout",
          "text": [
            "{1, 2, 3, 4, 5}\n"
          ]
        }
      ]
    },
    {
      "cell_type": "code",
      "source": [
        "#20.  Write a code to find the intersection of two sets {1, 2, 3} and {2, 3, 4}.\n",
        "\n",
        "set1 = {1, 2, 3}\n",
        "set2 = {2, 3, 4}\n",
        "intersection_set = set1.intersection(set2)\n",
        "print(intersection_set)"
      ],
      "metadata": {
        "colab": {
          "base_uri": "https://localhost:8080/"
        },
        "id": "t9HCQ6yvrgwG",
        "outputId": "a3f2c760-6302-41ba-a99f-cbaa0cde2631"
      },
      "execution_count": 26,
      "outputs": [
        {
          "output_type": "stream",
          "name": "stdout",
          "text": [
            "{2, 3}\n"
          ]
        }
      ]
    },
    {
      "cell_type": "code",
      "source": [
        "#21. Write a code to create a dictionary with the keys \"name\", \"age\", and \"city\", and print it.\n",
        "\n",
        "my_dict = {\n",
        "\n",
        "\"name\":\n",
        "\n",
        "\"Jayshree\",\n",
        "\n",
        "\"age\": 24,\n",
        "\n",
        "\"city\": \"Tirora\"\n",
        "\n",
        "}\n",
        "print(my_dict)"
      ],
      "metadata": {
        "colab": {
          "base_uri": "https://localhost:8080/"
        },
        "id": "rrj2lYR_rspi",
        "outputId": "6e4e6c3c-0a6d-4a1e-c19b-3bca41397524"
      },
      "execution_count": 27,
      "outputs": [
        {
          "output_type": "stream",
          "name": "stdout",
          "text": [
            "{'name': 'Jayshree', 'age': 24, 'city': 'Tirora'}\n"
          ]
        }
      ]
    },
    {
      "cell_type": "code",
      "source": [
        "#22.  Write a code to add a new key-value pair \"country\": \"USA\" to the dictionary {'name': 'John', 'age': 25}\n",
        "\n",
        "my_dict = {'name': 'John', 'age': 25}\n",
        "\n",
        "my_dict['country'] = 'USA'\n",
        "\n",
        "print(my_dict)"
      ],
      "metadata": {
        "colab": {
          "base_uri": "https://localhost:8080/"
        },
        "id": "lx3-ItqKsHvo",
        "outputId": "b622c937-faca-451f-c4e8-96be604a430c"
      },
      "execution_count": 28,
      "outputs": [
        {
          "output_type": "stream",
          "name": "stdout",
          "text": [
            "{'name': 'John', 'age': 25, 'country': 'USA'}\n"
          ]
        }
      ]
    },
    {
      "cell_type": "code",
      "source": [
        "#23. Write a code to access the value associated with the key \"name\" in the dictionary {'name': 'Alice', 'age': 30}.\n",
        "\n",
        "my_dict = {'name': 'Alice', 'age': 30}\n",
        "name_value = my_dict['name']\n",
        "print(name_value)"
      ],
      "metadata": {
        "colab": {
          "base_uri": "https://localhost:8080/"
        },
        "id": "ieGFr48HsgXK",
        "outputId": "12e26f8f-cc12-4479-bfb1-c0f5a55cfc08"
      },
      "execution_count": 29,
      "outputs": [
        {
          "output_type": "stream",
          "name": "stdout",
          "text": [
            "Alice\n"
          ]
        }
      ]
    },
    {
      "cell_type": "code",
      "source": [
        "#24.  Write a code to remove the key \"age\" from the dictionary {'name': 'Bob', 'age': 22, 'city': 'New York'}.\n",
        "\n",
        "my_dict = {'name': 'Bob', 'age': 22, 'city': 'New York'}\n",
        "del my_dict['age']\n",
        "print(my_dict)"
      ],
      "metadata": {
        "colab": {
          "base_uri": "https://localhost:8080/"
        },
        "id": "GTDbUASpsscX",
        "outputId": "61db0ca2-34e6-4952-d2b6-a625ef6f2e5b"
      },
      "execution_count": 30,
      "outputs": [
        {
          "output_type": "stream",
          "name": "stdout",
          "text": [
            "{'name': 'Bob', 'city': 'New York'}\n"
          ]
        }
      ]
    },
    {
      "cell_type": "code",
      "source": [
        "#25.  Write a code to check if the key \"city\" exists in the dictionary {'name': 'Alice', 'city': 'Paris'}.\n",
        "\n",
        "my_dict = {'name': 'Alice', 'city': 'Paris'}\n",
        "city_exists = 'city' in my_dict\n",
        "print(city_exists)"
      ],
      "metadata": {
        "colab": {
          "base_uri": "https://localhost:8080/"
        },
        "id": "evp50Ywis39E",
        "outputId": "f6b86c02-1bb9-4a9f-e93e-7153ef64ef39"
      },
      "execution_count": 31,
      "outputs": [
        {
          "output_type": "stream",
          "name": "stdout",
          "text": [
            "True\n"
          ]
        }
      ]
    },
    {
      "cell_type": "code",
      "source": [
        "#26. Write a code to create a list, a tuple, and a dictionary, and print them all.\n",
        "\n",
        "my_list = [10, 20, 30, 40, 50]\n",
        "my_tuple = (\"apple\", \"banana\", \"cherry\")\n",
        "my_dict = {\n",
        "    \"name\": \"Alice\",\n",
        "    \"age\": 25,\n",
        "    \"city\": \"Mumbai\"\n",
        "}\n",
        "print(\"List:\", my_list)\n",
        "print(\"Tuple:\", my_tuple)\n",
        "print(\"Dictionary:\", my_dict)"
      ],
      "metadata": {
        "colab": {
          "base_uri": "https://localhost:8080/"
        },
        "id": "D-sog2CytCnJ",
        "outputId": "130fe71b-fe6f-4e38-b600-ee1114a60fd7"
      },
      "execution_count": 32,
      "outputs": [
        {
          "output_type": "stream",
          "name": "stdout",
          "text": [
            "List: [10, 20, 30, 40, 50]\n",
            "Tuple: ('apple', 'banana', 'cherry')\n",
            "Dictionary: {'name': 'Alice', 'age': 25, 'city': 'Mumbai'}\n"
          ]
        }
      ]
    },
    {
      "cell_type": "code",
      "source": [
        "#27. Write a code to create a list of 5 random numbers between 1 and 100, sort it in ascending order, and print the result.(replaced)\n",
        "\n",
        "import random\n",
        "random_numbers = [random.randint(1, 100) for _ in range(5)]\n",
        "random_numbers.sort()\n",
        "print(random_numbers)\n"
      ],
      "metadata": {
        "colab": {
          "base_uri": "https://localhost:8080/"
        },
        "id": "ycrcY-1HtOzT",
        "outputId": "c480be9c-a535-48fe-c689-4328d7e38207"
      },
      "execution_count": 34,
      "outputs": [
        {
          "output_type": "stream",
          "name": "stdout",
          "text": [
            "[3, 32, 37, 49, 95]\n"
          ]
        }
      ]
    },
    {
      "cell_type": "code",
      "source": [
        "#28. Write a code to create a list with strings and print the element at the third index.\n",
        "\n",
        "my_list = [\"apple\", \"banana\", \"cherry\", \"date\", \"elderberry\"]\n",
        "third_element = my_list[2]\n",
        "print(third_element)\n",
        "\n"
      ],
      "metadata": {
        "colab": {
          "base_uri": "https://localhost:8080/"
        },
        "id": "an-ap4b1uXN6",
        "outputId": "d8fba13d-a1c1-4a1d-e952-70ef5f30b6e5"
      },
      "execution_count": 35,
      "outputs": [
        {
          "output_type": "stream",
          "name": "stdout",
          "text": [
            "cherry\n"
          ]
        }
      ]
    },
    {
      "cell_type": "code",
      "source": [
        "#29. Write a code to combine two dictionaries into one and print the result.\n",
        "\n",
        "my_dict1 = {'a': 1, 'b': 2}\n",
        "my_dict2 = {'c': 3, 'd': 4}\n",
        "combined_dict = {**my_dict1, **my_dict2}\n",
        "print(combined_dict)"
      ],
      "metadata": {
        "colab": {
          "base_uri": "https://localhost:8080/"
        },
        "id": "VVQBGfPZucpe",
        "outputId": "70285df3-a8b9-4f41-d1e7-2bc4e2709df5"
      },
      "execution_count": 36,
      "outputs": [
        {
          "output_type": "stream",
          "name": "stdout",
          "text": [
            "{'a': 1, 'b': 2, 'c': 3, 'd': 4}\n"
          ]
        }
      ]
    },
    {
      "cell_type": "code",
      "source": [
        "#30. Write a code to convert a list of strings into a set.\n",
        "\n",
        "my_list = [\"apple\", \"banana\", \"cherry\", \"date\", \"elderberry\"]\n",
        "my_set = set(my_list)\n",
        "print(my_set)"
      ],
      "metadata": {
        "colab": {
          "base_uri": "https://localhost:8080/"
        },
        "id": "9L9e0SebujEv",
        "outputId": "40be4ada-4677-40cd-80e4-53390ca6c809"
      },
      "execution_count": 37,
      "outputs": [
        {
          "output_type": "stream",
          "name": "stdout",
          "text": [
            "{'apple', 'cherry', 'elderberry', 'banana', 'date'}\n"
          ]
        }
      ]
    }
  ]
}