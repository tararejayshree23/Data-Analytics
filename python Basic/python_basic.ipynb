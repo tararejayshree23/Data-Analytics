{
  "nbformat": 4,
  "nbformat_minor": 0,
  "metadata": {
    "colab": {
      "provenance": []
    },
    "kernelspec": {
      "name": "python3",
      "display_name": "Python 3"
    },
    "language_info": {
      "name": "python"
    }
  },
  "cells": [
    {
      "cell_type": "markdown",
      "source": [],
      "metadata": {
        "id": "5Md1CwxcQhal"
      }
    },
    {
      "cell_type": "markdown",
      "source": [
        "# python Basic\n"
      ],
      "metadata": {
        "id": "FvB8McGzQmWK"
      }
    },
    {
      "cell_type": "markdown",
      "source": [
        "1. What is Python, and why is it popular?\n",
        "  -> Python is a high-level, interpreted programming language known for its simplicity and readability.\n",
        "  Why is Python Popular?\n",
        "  1.Easy to Learn and Read.\n",
        "   2.Huge Standard Library 3. Cross-Platform 4.Community Support.\n",
        "\n",
        "2.  What is an interpreter in Python?\n",
        "     -> An interpreter in Python is a program that reads and executes Python code line by line, allowing quick execution and easy debugging, but generally making it slower than compiled languages.\n",
        "\n",
        "3. What are pre-defined keywords in Python?\n",
        "  -> Pre-defined keywords in Python are reserved words that have a special meaning in the language syntax. They cannot be used as variable names, function names, or identifiers.\n",
        "  Some commonly used Python keywords are:\n",
        "     if, else, elif, while, for, break, continue, return,class, try, except, finally.\n",
        "\n",
        "4. Can keywords be used as variable names?\n",
        "     -> No, keywords cannot be used as variable names in Python because they are reserved for the language's syntax and have special meanings.\n",
        "\n",
        "5. What is mutability in Python?\n",
        "     -> Mutability in Python refers to whether an object’s value can be changed after it is created.\n",
        "     Mutable objects: Their content can be changed after creation.\n",
        "     Immutable objects: Their content cannot be changed after creation.\n",
        "     Common Mutable Types:\n",
        "        1.list 2.Dictionaries 3.set\n",
        "     Common Immutable Types:\n",
        "        1. Integer 2.float 3.strings\n",
        "\n",
        "6. Why are lists mutable, but tuples are immutable?\n",
        "     -> Lists are mutable because they are designed to store a collection of items that can be changed (added, removed, or updated).\n",
        "     Tuples are immutable to provide fixed data storage, making them faster, safer, and usable as dictionary keys.\n",
        "\n",
        "7. What is the difference between “==” and “is” operators in Python?\n",
        "     -> \"==\" checks if values are equal while \"is\" checks if both variables refer to the same object in memory.\n",
        "\n",
        "8. What are logical operators in Python?\n",
        "     -> 1) and:Returns True if both conditions are true.\n",
        "      ex:(5 > 3) and (2 < 4)  output: True\n",
        "       2) or:Returns True if at least one condition is true.\n",
        "       ex:(5 > 3) or (2 > 4)  output: True\n",
        "      3) not:Reverses the Boolean value of the condition.\n",
        "       ex:not (5 > 3)  output: False\n",
        "\n",
        "9. What is type casting in Python?\n",
        "     -> Type casting in Python is the process of converting a variable from one data type to another (e.g., from string to integer).\n",
        "      Types of Type Casting:\n",
        "      1)Implicit Type Casting : Automatically done by Python.\n",
        "      Example: x = 5       \n",
        "               y = 2.5     \n",
        "               z = x + y   \n",
        "               print(z)\n",
        "      2)Explicit Type Casting : Done by the programmer using functions like int(), float(), str().\n",
        "      Example: num_str = \"10\"\n",
        "               num_int = int(num_str)  \n",
        "               print(num_int + 5)\n",
        "\n",
        "10. What is the difference between implicit and explicit type casting?\n",
        "      -> 1. Implicit Type Casting (Automatic)\n",
        "          Automatically performed by Python.\n",
        "          Happens when combining different data types in expressions.\n",
        "          No need for programmer intervention.\n",
        "          Safe and no data loss.\n",
        "Example:x = 5        \n",
        "        y = 2.5       \n",
        "        z = x + y   \n",
        "       print(z)\n",
        "       Output: 7.5\n",
        "       2. Explicit Type Casting (Manual)\n",
        "        Done manually by the programmer.\n",
        "        Uses functions like int(), float(), str().\n",
        "        Converts one data type to another explicitly.\n",
        "        May cause data loss if used improperly.\n",
        "Example:num_str = \"10\"\n",
        "        num_int = int(num_str)\n",
        "        print(num_int + 5)\n",
        "        Output: 15\n",
        "\n",
        "11. What is the purpose of conditional statements in Python?\n",
        "     -> Purpose of Conditional Statements:\n",
        "         To perform different actions based on different conditions.\n",
        "         Helps in making decisions in a program.\n",
        "         control program flow.\n",
        "         handle different scenarios.\n",
        "\n",
        "12. How does the elif statement work?\n",
        "     -> The elif statement stands for “else if”.\n",
        "        It allows checking multiple conditions in sequence after an initial if.\n",
        "        Python checks the conditions one by one from top to bottom.\n",
        "      The first condition that is True gets executed, and the rest are skipped.\n",
        "Example:\n",
        "age = 18\n",
        "if age < 13:\n",
        "    print(\"Child\")\n",
        "elif age < 18:\n",
        "    print(\"Teenager\")\n",
        "else:\n",
        "    print(\"Adult\")\n",
        "Output:\n",
        "      Adult\n",
        "\n",
        "13. What is the difference between for and while loops?\n",
        "     -> for Loop\n",
        "        Used to iterate over a sequence (like list, tuple, range).\n",
        "        Best when the number of iterations is known.\n",
        "\n",
        "        Example:\n",
        "                  for i in range(3):\n",
        "                      print(i)\n",
        "\n",
        "        Output:\n",
        "                0\n",
        "                1\n",
        "                2\n",
        "        while Loop\n",
        "        Repeats as long as a condition is True.\n",
        "        Best when the number of iterations is not known in advance.\n",
        "\n",
        "        Example:\n",
        "                 i = 0\n",
        "                 while i < 3:\n",
        "                    print(i)\n",
        "                    i += 1\n",
        "\n",
        "14. Describe a scenario where a while loop is more suitable than a for loop.\n",
        "     -> Scenario: Waiting for User Input\n",
        "     1.You don’t know in advance how many times the user will enter invalid input.\n",
        "      Why while is Better Than for Here:\n",
        "        We don’t know how many attempts the user will take.\n",
        "        Loop continues until the correct condition is met.\n",
        "\n",
        "        Example:   \n",
        "                 password = \"secret\"\n",
        "                 user_input = \"\"\n",
        "              while user_input != password:\n",
        "                  user_input = input(\"Enter password: \")\n",
        "              print(\"Access granted\")\n",
        "\n",
        "\n",
        "\n",
        "       \n",
        "\n",
        "\n",
        "\n",
        "\n",
        "\n",
        "\n",
        "\n",
        "\n",
        "          \n",
        "\n",
        "        \n",
        "\n",
        "    \n",
        "\n",
        "                     \n",
        "\n",
        "\n",
        "\n",
        "  \n",
        "   \n"
      ],
      "metadata": {
        "id": "MxF4MLZEQ6S2"
      }
    },
    {
      "cell_type": "code",
      "execution_count": 1,
      "metadata": {
        "colab": {
          "base_uri": "https://localhost:8080/"
        },
        "id": "Is05g4rhPuou",
        "outputId": "57b01dbc-e51e-4b5d-83c1-0fa34ca566ce"
      },
      "outputs": [
        {
          "output_type": "stream",
          "name": "stdout",
          "text": [
            "Hello, World!\n"
          ]
        }
      ],
      "source": [
        "# 1. Write a Python program to print \"Hello, World!\n",
        "print(\"Hello, World!\")"
      ]
    },
    {
      "cell_type": "code",
      "source": [
        "# 2. Write a Python program that displays your name and age.\n",
        "\n",
        "name = \"Jayshree\"\n",
        "age = 24\n",
        "print(\"My name is\", name)\n",
        "print(\"I am\", age, \"years old\")\n"
      ],
      "metadata": {
        "colab": {
          "base_uri": "https://localhost:8080/"
        },
        "id": "wJsVCijLrLBI",
        "outputId": "1a960dab-5a1a-4129-b66b-a560c690948b"
      },
      "execution_count": 2,
      "outputs": [
        {
          "output_type": "stream",
          "name": "stdout",
          "text": [
            "My name is Jayshree\n",
            "I am 24 years old\n"
          ]
        }
      ]
    },
    {
      "cell_type": "code",
      "source": [
        "# 3. Write code to print all the pre-defined keywords in Python using the keyword library.\n",
        "\n",
        "import keyword\n",
        "print(\"Python keywords are:\")\n",
        "print(keyword.kwlist)\n"
      ],
      "metadata": {
        "colab": {
          "base_uri": "https://localhost:8080/"
        },
        "id": "wn0RyaJOr3ku",
        "outputId": "2dfe4086-856d-40cf-8fd6-ce83e86d92d5"
      },
      "execution_count": 3,
      "outputs": [
        {
          "output_type": "stream",
          "name": "stdout",
          "text": [
            "Python keywords are:\n",
            "['False', 'None', 'True', 'and', 'as', 'assert', 'async', 'await', 'break', 'class', 'continue', 'def', 'del', 'elif', 'else', 'except', 'finally', 'for', 'from', 'global', 'if', 'import', 'in', 'is', 'lambda', 'nonlocal', 'not', 'or', 'pass', 'raise', 'return', 'try', 'while', 'with', 'yield']\n"
          ]
        }
      ]
    },
    {
      "cell_type": "code",
      "source": [
        "# 4. Write a program that checks if a given word is a Python keyword.\n",
        "\n",
        "import keyword\n",
        "word = input(\"Enter a word to check: \")\n",
        "if keyword.iskeyword(word):\n",
        "    print(f'\"{word}\" is a Python keyword.')\n",
        "else:\n",
        "    print(f'\"{word}\" is NOT a Python keyword.')\n"
      ],
      "metadata": {
        "colab": {
          "base_uri": "https://localhost:8080/"
        },
        "id": "28AQWfYisgDO",
        "outputId": "a3191405-13c3-4bcf-f452-c7703351e5a7"
      },
      "execution_count": 4,
      "outputs": [
        {
          "output_type": "stream",
          "name": "stdout",
          "text": [
            "Enter a word to check: for\n",
            "\"for\" is a Python keyword.\n"
          ]
        }
      ]
    },
    {
      "cell_type": "code",
      "source": [
        "#5.  Create a list and tuple in Python, and demonstrate how attempting to change an element works differently for each\n",
        "\n",
        "my_list = [1, 2, 3]\n",
        "print(\"Original List:\", my_list)\n",
        "my_list[0] = 10\n",
        "print(\"Modified List:\", my_list)\n",
        "my_tuple = (1, 2, 3)\n",
        "print(\"Original Tuple:\", my_tuple)\n",
        "try:\n",
        "    my_tuple[0] = 10\n",
        "except TypeError as e:\n",
        "    print(\"Error while modifying tuple:\", e)\n"
      ],
      "metadata": {
        "colab": {
          "base_uri": "https://localhost:8080/"
        },
        "id": "8jcMco8DtWjt",
        "outputId": "64d5fb6a-27f6-4918-c258-b64d4d0e86e8"
      },
      "execution_count": 7,
      "outputs": [
        {
          "output_type": "stream",
          "name": "stdout",
          "text": [
            "Original List: [1, 2, 3]\n",
            "Modified List: [10, 2, 3]\n",
            "Original Tuple: (1, 2, 3)\n",
            "Error while modifying tuple: 'tuple' object does not support item assignment\n"
          ]
        }
      ]
    },
    {
      "cell_type": "code",
      "source": [
        "#6. Write a function to demonstrate the behavior of mutable and immutable arguments.\n",
        "\n",
        "def modify_args(a_list, a_number):\n",
        "    a_list.append(100)\n",
        "    a_number += 10\n",
        "    print(\"Inside function - list:\", a_list)\n",
        "    print(\"Inside function - number:\", a_number)\n",
        "\n",
        "# Mutable object (list)\n",
        "my_list = [1, 2, 3]\n",
        "\n",
        "# Immutable object (integer)\n",
        "my_number = 50\n",
        "\n",
        "print(\"Before function call - list:\", my_list)\n",
        "print(\"Before function call - number:\", my_number)\n",
        "\n",
        "# Call the function\n",
        "modify_args(my_list, my_number)\n",
        "\n",
        "print(\"After function call - list:\", my_list)\n",
        "print(\"After function call - number:\", my_number)\n"
      ],
      "metadata": {
        "colab": {
          "base_uri": "https://localhost:8080/"
        },
        "id": "GdgxtW3nuPsn",
        "outputId": "956628d4-1c6b-40cc-95d8-28c406f5a649"
      },
      "execution_count": 8,
      "outputs": [
        {
          "output_type": "stream",
          "name": "stdout",
          "text": [
            "Before function call - list: [1, 2, 3]\n",
            "Before function call - number: 50\n",
            "Inside function - list: [1, 2, 3, 100]\n",
            "Inside function - number: 60\n",
            "After function call - list: [1, 2, 3, 100]\n",
            "After function call - number: 50\n"
          ]
        }
      ]
    },
    {
      "cell_type": "code",
      "source": [
        "#7.Write a program that performs basic arithmetic operations on two user-input numbers.\n",
        "# Take two numbers as input from the user\n",
        "num1 = float(input(\"Enter the first number: \"))\n",
        "num2 = float(input(\"Enter the second number: \"))\n",
        "\n",
        "# Perform basic arithmetic operations\n",
        "addition = num1 + num2\n",
        "subtraction = num1 - num2\n",
        "multiplication = num1 * num2\n",
        "division = num1 / num2 if num2 != 0 else \"Undefined (division by zero)\"\n",
        "modulus = num1 % num2 if num2 != 0 else \"Undefined (modulus by zero)\"\n",
        "\n",
        "# Display the results\n",
        "print(f\"{num1} + {num2} = {addition}\")\n",
        "print(f\"{num1} - {num2} = {subtraction}\")\n",
        "print(f\"{num1} * {num2} = {multiplication}\")\n",
        "print(f\"{num1} / {num2} = {division}\")\n",
        "print(f\"{num1} % {num2} = {modulus}\")\n"
      ],
      "metadata": {
        "colab": {
          "base_uri": "https://localhost:8080/"
        },
        "id": "d2PUAlPavPsl",
        "outputId": "0d332598-3121-47d6-8856-8822b28947ca"
      },
      "execution_count": 9,
      "outputs": [
        {
          "output_type": "stream",
          "name": "stdout",
          "text": [
            "Enter the first number: 5\n",
            "Enter the second number: 6\n",
            "5.0 + 6.0 = 11.0\n",
            "5.0 - 6.0 = -1.0\n",
            "5.0 * 6.0 = 30.0\n",
            "5.0 / 6.0 = 0.8333333333333334\n",
            "5.0 % 6.0 = 5.0\n"
          ]
        }
      ]
    },
    {
      "cell_type": "code",
      "source": [
        "#8. Write a program to demonstrate the use of logical operators.\n",
        "# Take two boolean inputs from the user\n",
        "a = True\n",
        "b = False\n",
        "\n",
        "print(\"AND Operator:\")\n",
        "print(f\"{a} and {b} = {a and b}\")\n",
        "\n",
        "# Demonstrate OR operator\n",
        "print(\"\\nOR Operator:\")\n",
        "print(f\"{a} or {b} = {a or b}\")\n",
        "\n",
        "# Demonstrate NOT operator\n",
        "print(\"\\nNOT Operator:\")\n",
        "print(f\"not {a} = {not a}\")\n",
        "print(f\"not {b} = {not b}\")\n",
        "\n",
        "# Practical example with numbers\n",
        "x = 10\n",
        "y = 5\n",
        "\n",
        "print(\"\\nPractical Example:\")\n",
        "if x > 0 and y > 0:\n",
        "    print(\"Both x and y are positive numbers.\")\n",
        "\n",
        "if x > 0 or y < 0:\n",
        "    print(\"At least one condition is True.\")\n",
        "\n",
        "if not x < 0:\n",
        "    print(\"x is not negative.\")\n"
      ],
      "metadata": {
        "colab": {
          "base_uri": "https://localhost:8080/"
        },
        "id": "CJINrXLHvty7",
        "outputId": "7ce804a9-c84c-4ea1-d06a-08ff0998a64c"
      },
      "execution_count": 10,
      "outputs": [
        {
          "output_type": "stream",
          "name": "stdout",
          "text": [
            "AND Operator:\n",
            "True and False = False\n",
            "\n",
            "OR Operator:\n",
            "True or False = True\n",
            "\n",
            "NOT Operator:\n",
            "not True = False\n",
            "not False = True\n",
            "\n",
            "Practical Example:\n",
            "Both x and y are positive numbers.\n",
            "At least one condition is True.\n",
            "x is not negative.\n"
          ]
        }
      ]
    },
    {
      "cell_type": "code",
      "source": [
        "#9. Write a Python program to convert user input from string to integer, float, and boolean types.\n",
        "\n",
        "user_input = input(\"Enter something: \")\n",
        "\n",
        "# Convert to integer\n",
        "try:\n",
        "    int_value = int(user_input)\n",
        "    print(\"Integer:\", int_value)\n",
        "except ValueError:\n",
        "    print(\"Cannot convert to integer\")\n",
        "\n",
        "# Convert to float\n",
        "try:\n",
        "    float_value = float(user_input)\n",
        "    print(\"Float:\", float_value)\n",
        "except ValueError:\n",
        "    print(\"Cannot convert to float\")\n",
        "\n",
        "# Convert to boolean\n",
        "bool_value = bool(user_input)\n",
        "print(\"Boolean:\", bool_value)\n"
      ],
      "metadata": {
        "colab": {
          "base_uri": "https://localhost:8080/"
        },
        "id": "ns5tKVL3wKvV",
        "outputId": "038ce073-3f82-4058-c9f8-2466fe7ddb2c"
      },
      "execution_count": 11,
      "outputs": [
        {
          "output_type": "stream",
          "name": "stdout",
          "text": [
            "Enter something: 25\n",
            "Integer: 25\n",
            "Float: 25.0\n",
            "Boolean: True\n"
          ]
        }
      ]
    },
    {
      "cell_type": "code",
      "source": [
        "#10. Write code to demonstrate type casting with list elements.\n",
        "\n",
        "str_list = [\"1\", \"2\", \"3\", \"4.5\"]\n",
        "\n",
        "# Convert strings to integers\n",
        "int_list = []\n",
        "for item in str_list:\n",
        "    try:\n",
        "        int_list.append(int(item))\n",
        "    except ValueError:\n",
        "        print(f\"Cannot convert '{item}' to int\")\n",
        "\n",
        "print(\"Original List (strings):\", str_list)\n",
        "print(\"Converted to Integers:\", int_list)\n",
        "\n",
        "# Convert strings to floats\n",
        "float_list = [float(item) for item in str_list]\n",
        "print(\"Converted to Floats:\", float_list)\n",
        "\n",
        "# Convert strings to booleans\n",
        "bool_list = [bool(item) for item in str_list]\n",
        "print(\"Converted to Booleans:\", bool_list)\n"
      ],
      "metadata": {
        "colab": {
          "base_uri": "https://localhost:8080/"
        },
        "id": "5QgLIFS4wxvy",
        "outputId": "e376c252-f35c-4f9f-ff0c-d17830548ce7"
      },
      "execution_count": 12,
      "outputs": [
        {
          "output_type": "stream",
          "name": "stdout",
          "text": [
            "Cannot convert '4.5' to int\n",
            "Original List (strings): ['1', '2', '3', '4.5']\n",
            "Converted to Integers: [1, 2, 3]\n",
            "Converted to Floats: [1.0, 2.0, 3.0, 4.5]\n",
            "Converted to Booleans: [True, True, True, True]\n"
          ]
        }
      ]
    },
    {
      "cell_type": "code",
      "source": [
        "#11.  Write a program that checks if a number is positive, negative, or zero.\n",
        "\n",
        "num = float(input(\"Enter a number: \"))\n",
        "if num > 0:\n",
        "    print(\"The number is positive.\")\n",
        "elif num < 0:\n",
        "    print(\"The number is negative.\")\n",
        "else:\n",
        "    print(\"The number is zero.\")\n",
        "\n",
        "\n"
      ],
      "metadata": {
        "colab": {
          "base_uri": "https://localhost:8080/"
        },
        "id": "w9oDMqrVxHsj",
        "outputId": "f79ec264-3799-442e-edec-64b3073addea"
      },
      "execution_count": 13,
      "outputs": [
        {
          "output_type": "stream",
          "name": "stdout",
          "text": [
            "Enter a number: 2\n",
            "The number is positive.\n"
          ]
        }
      ]
    },
    {
      "cell_type": "code",
      "source": [
        "#12. Write a for loop to print numbers from 1 to 10.\n",
        "\n",
        "for i in range(1, 11):\n",
        "    print(i)\n"
      ],
      "metadata": {
        "colab": {
          "base_uri": "https://localhost:8080/"
        },
        "id": "lnoYeRQAxdMn",
        "outputId": "48fa7811-f8ca-4ea6-feba-ead4afa65977"
      },
      "execution_count": 14,
      "outputs": [
        {
          "output_type": "stream",
          "name": "stdout",
          "text": [
            "1\n",
            "2\n",
            "3\n",
            "4\n",
            "5\n",
            "6\n",
            "7\n",
            "8\n",
            "9\n",
            "10\n"
          ]
        }
      ]
    },
    {
      "cell_type": "code",
      "source": [
        "#13. Write a Python program to find the sum of all even numbers between 1 and 50.\n",
        "sum_even = 0\n",
        "for num in range(1, 51):\n",
        "    if num % 2 == 0:\n",
        "        sum_even += num\n",
        "print(\"Sum of all even numbers between 1 and 50 is:\", sum_even)\n"
      ],
      "metadata": {
        "colab": {
          "base_uri": "https://localhost:8080/"
        },
        "id": "KNBUu3v1xvJI",
        "outputId": "f6c5b44e-1090-4977-8f19-1d50a9eeb1f2"
      },
      "execution_count": 15,
      "outputs": [
        {
          "output_type": "stream",
          "name": "stdout",
          "text": [
            "Sum of all even numbers between 1 and 50 is: 650\n"
          ]
        }
      ]
    },
    {
      "cell_type": "code",
      "source": [
        "#14.  Write a program to reverse a string using a while loop.\n",
        "\n",
        "\n",
        "original_string = input(\"Enter a string: \")\n",
        "reversed_string = \"\"\n",
        "index = len(original_string) - 1\n",
        "\n",
        "# Use while loop to reverse the string\n",
        "while index >= 0:\n",
        "    reversed_string += original_string[index]\n",
        "    index -= 1\n",
        "print(\"Reversed string:\", reversed_string)\n"
      ],
      "metadata": {
        "colab": {
          "base_uri": "https://localhost:8080/"
        },
        "id": "SCEehdpsyK_Q",
        "outputId": "c046c81c-4949-4ab8-8265-cb87360eb8a0"
      },
      "execution_count": 16,
      "outputs": [
        {
          "output_type": "stream",
          "name": "stdout",
          "text": [
            "Enter a string: jayshree\n",
            "Reversed string: eerhsyaj\n"
          ]
        }
      ]
    },
    {
      "cell_type": "code",
      "source": [
        "#15.  Write a Python program to calculate the factorial of a number provided by the user using a while loop.\n",
        "\n",
        "num = int(input(\"Enter a non-negative integer: \"))\n",
        "\n",
        "factorial = 1\n",
        "i = 1\n",
        "if num < 0:\n",
        "    print(\"Factorial is not defined for negative numbers.\")\n",
        "else:\n",
        "    while i <= num:\n",
        "        factorial *= i\n",
        "        i += 1\n",
        "    print(f\"The factorial of {num} is {factorial}\")\n"
      ],
      "metadata": {
        "colab": {
          "base_uri": "https://localhost:8080/"
        },
        "id": "q1IeVf0RykDE",
        "outputId": "ebd8230a-08b6-4229-864a-0410fd9f56da"
      },
      "execution_count": 17,
      "outputs": [
        {
          "output_type": "stream",
          "name": "stdout",
          "text": [
            "Enter a non-negative integer: 45\n",
            "The factorial of 45 is 119622220865480194561963161495657715064383733760000000000\n"
          ]
        }
      ]
    }
  ]
}