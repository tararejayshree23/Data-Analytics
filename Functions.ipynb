{
  "nbformat": 4,
  "nbformat_minor": 0,
  "metadata": {
    "colab": {
      "provenance": []
    },
    "kernelspec": {
      "name": "python3",
      "display_name": "Python 3"
    },
    "language_info": {
      "name": "python"
    }
  },
  "cells": [
    {
      "cell_type": "markdown",
      "source": [
        "Functions"
      ],
      "metadata": {
        "id": "4yongXtG-ZNF"
      }
    },
    {
      "cell_type": "markdown",
      "source": [
        "1.  What is the difference between a function and a method in Python?\n",
        "     -> Function\n",
        "\n",
        "     1. A function is a block of reusable code that performs a specific task.\n",
        "\n",
        "     2. It is defined using the def keyword.\n",
        "\n",
        "     3. Functions can exist independently (outside of classes).\n",
        "  \n",
        "  \n",
        "   * Method  \n",
        "\n",
        "     1. A method is also a function, but it is associated with an object (or class).\n",
        "\n",
        "     2. It is defined inside a class and usually operates on data (attributes) of that class.\n",
        "\n",
        "     3. The first parameter of instance methods is usually self, which refers to the object itself.\n",
        "\n",
        "2. . Explain the concept of function arguments and parameters in Python.\n",
        "     -> Arguments\n",
        "\n",
        "     Definition:\n",
        "     \n",
        "     Arguments are the actual values/data you pass into the function when calling it.\n",
        "\n",
        "     Example:\n",
        "\n",
        "     greet(\"Minakshi\")  # \"Minakshi\" is an argument\n",
        "\n",
        "     Here, \"Minakshi\" is the argument being assigned to the parameter name.\n",
        "\n",
        "     * Parameters\n",
        "\n",
        "      Definition:\n",
        "      \n",
        "      Parameters are variables listed inside the parentheses in a function definition.\n",
        "\n",
        "      They act as placeholders for the values that will be passed when the function is called.\n",
        "\n",
        "      Example:\n",
        "\n",
        "      def greet(name):  # 'name' is a parameter\n",
        "          print(f\"Hello, {name}!\")\n",
        "\n",
        "      Here, name is a parameter.\n",
        "\n",
        "3. What are the different ways to define and call a function in Python?\n",
        "\n",
        "   -> - Ways to Define a Function in Python\n",
        "\n",
        "     1. Normal function → def func(): ...\n",
        "\n",
        "     2. With default parameters → def func(a=10): ...\n",
        "\n",
        "     3. With variable arguments →\n",
        "\n",
        "     4. *args (positional, tuple)\n",
        "\n",
        "     5. **kwargs (keyword, dict)\n",
        "\n",
        "     6. Lambda function → lambda x: x*2\n",
        "\n",
        "     7. Nested function → function inside another function\n",
        "\n",
        "     8. Recursive function → function calls itself  \n",
        "\n",
        "\n",
        "   *  Ways to Call a Function\n",
        "\n",
        "     1. Positional arguments → func(10, 20)\n",
        "\n",
        "     2. Keyword arguments → func(a=10, b=20)\n",
        "\n",
        "     3. Default arguments → func() (uses default)\n",
        "\n",
        "     4. Mix of positional & keyword → func(10, b=20)\n",
        "\n",
        "     5. Argument unpacking →\n",
        "\n",
        "        func(*tuple_or_list)\n",
        "        func(**dict)\n",
        "\n",
        "4.  What is the purpose of the `return` statement in a Python function?\n",
        "\n",
        "     -> The return statement in Python is used to:\n",
        "\n",
        "    1. Send a value back to the caller\n",
        "\n",
        "       It allows a function to produce an output that can be stored or used later.\n",
        "\n",
        "    2. End function execution\n",
        "\n",
        "        As soon as return is executed, the function stops running, and control goes back to the caller.    \n",
        "\n",
        "    3. Return multiple values (as a tuple)\n",
        "\n",
        "       Python allows returning more than one value.    \n",
        "\n",
        "    4. No return → returns None by default\n",
        "    \n",
        "  def greet():\n",
        "print(\"Hello!\")\n",
        "result = greet()\n",
        " print(result)\n",
        "\n",
        "5.  What are iterators in Python and how do they differ from iterables?\n",
        "\n",
        "     -> Iterable\n",
        "\n",
        "       An iterable is any Python object that can return an iterator.\n",
        "\n",
        "       Examples: lists, tuples, strings, sets, dictionaries, ranges, etc.\n",
        "\n",
        "       Technically: An object is iterable if it implements the _iter_() method.\n",
        "Examples:\n",
        "\n",
        "       my_list = [1, 2, 3]\n",
        "       \n",
        "       for item in my_list:  # list is iterable\n",
        "       \n",
        "       print(item)\n",
        "       \n",
        "       Here, my_list is an iterable.  \n",
        "\n",
        " * Iterator\n",
        "\n",
        "     An iterator is an object that remembers its state and gives one item at a time when you call next().\n",
        "\n",
        "     Technically: An object is an iterator if it implements both:\n",
        "\n",
        "     _iter_() → returns the iterator itself\n",
        "\n",
        "     _next_() → returns the next value (and raises StopIteration when no more items)\n",
        "\n",
        "Examples:\n",
        "\n",
        "     my_list = [1, 2, 3]\n",
        "     it = iter(my_list)  # create an iterator\n",
        "     print(next(it))  # 1\n",
        "     print(next(it))  # 2\n",
        "     print(next(it))  # 3\n",
        "     # print(next(it))  # StopIteration\n",
        "\n",
        " Here, it is an iterator.\n",
        "\n",
        "6.  Explain the concept of generators in Python and how they are defined.\n",
        "  \n",
        "  -> - Generators in Python\n",
        "\n",
        "     Generators are special iterators that produce values one at a time using lazy evaluation (don’t store all data in memory).\n",
        "\n",
        "     They are defined in two ways:\n",
        "\n",
        "    1. Generator Function\n",
        "\n",
        "     Uses yield instead of return.\n",
        "\n",
        "     def count_up_to(n):\n",
        "        i = 1\n",
        "        while i <= n:\n",
        "             yield i\n",
        "              i += 1\n",
        "\n",
        "   2. Generator Expression\n",
        "\n",
        "     Like list comprehension but with () instead of [].\n",
        "\n",
        "     squares = (x*x for x in range(5))-\n",
        "\n",
        "7. What are the advantages of using generators over regular functions?\n",
        "  \n",
        "  -> Advantages of generators are:\n",
        "  1. Memory Efficiency\n",
        "\n",
        "     Generators produce items one at a time, so they don’t store the entire sequence in memory.\n",
        "\n",
        "     Ideal for large datasets or infinite sequences.\n",
        "\n",
        "   2. Lazy Evaluation\n",
        "\n",
        "     Values are generated only when needed, not all at once.\n",
        "     Saves computation time for sequences where you might not need all values.\n",
        "\n",
        "   3. Represent Infinite Sequences\n",
        "\n",
        "     Regular functions can’t handle infinite data, but generators can.\n",
        "  \n",
        "  4. Cleaner Code\n",
        "\n",
        "     Using yield makes code for iterators shorter and more readable than writing a class with _iter() and __next_().\n",
        "\n",
        "5. Can be Iterated Once\n",
        "\n",
        "   Generators are iterators and maintain their state, so you can resume iteration without recomputation.\n",
        "\n",
        "8.  What is a lambda function in Python and when is it typically used?\n",
        "\n",
        "     -> What is a Lambda Function?\n",
        "\n",
        "1. A lambda function is a small, anonymous (unnamed) function in Python.\n",
        "\n",
        "2. Defined using the keyword lambda instead of def.\n",
        "\n",
        "3. Can take any number of arguments but has only one expression.\n",
        "\n",
        "4. The result of that expression is automatically returned.\n",
        "\n",
        " When is it Typically Used?\n",
        " 1. For short, simple operations\n",
        "  When you don't want to formally define a function with def.\n",
        " 2. As arguments to higher-order functions\n",
        "  Commonly used with functions like map(), filter(), and sorted().\n",
        " 3. In places where a quick function is needed temporarily\n",
        "  To avoid cluttering code with unnecessary named functions.\n",
        "\n",
        "9.  Explain the purpose and usage of the `map()` function in Python.\n",
        "\n",
        "     -> Purpose of map() in Python:\n",
        "\n",
        "  1.The map() function applies a given function to each item in an iterable (like a list, tuple, etc.) and returns a map object (an iterator).\n",
        "\n",
        "  2.It’s useful when you want to transform or process all elements of a sequence without writing an explicit loop.\n",
        "\n",
        "  Usage Examples:\n",
        "  1. With a built-in function\n",
        "  nums = [1, 2, 3, 4]\n",
        "squared = map(pow, nums, [2, 2, 2, 2])  # nums^2\n",
        "print(list(squared))  \n",
        " Output: [1, 4, 9, 16]\n",
        "\n",
        " 2. With a lambda function\n",
        " nums = [1, 2, 3, 4]\n",
        "result = map(lambda x: x * 2, nums)\n",
        "print(list(result))  \n",
        " Output: [2, 4, 6, 8]\n",
        "\n",
        "10. What is the difference between `map()`, `reduce()`, and `filter()` functions in Python?\n",
        "\n",
        "     -> 1. map()\n",
        "           1.Applies a function to each element of an iterable.\n",
        "           2.Returns a new iterator with transformed values.\n",
        "           3.Used for transformation.\n",
        "        2. filter()\n",
        "            1.Applies a function that returns True/False to each element.\n",
        "            2.Keeps only the elements that return True.\n",
        "            3.Returns a new iterator with filtered values.\n",
        "            4.Used for selection.\n",
        "        3. reduce()\n",
        "            1.Applies a function cumulatively to elements of an iterable.\n",
        "            2.Reduces the iterable to a single value.\n",
        "            3.Must be imported from functools.\n",
        "            4.Used for aggregation.\n",
        "11. Using pen & Paper write the internal mechanism for sum operation using  reduce function on this given\n",
        "list:[47,11,42,13];\n",
        "\n",
        "   -> ![ansfunctions11.jpg](data:image/jpeg;base64,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)\n",
        "\n",
        "\n",
        "\n"
      ],
      "metadata": {
        "id": "fG61R6MM-jCb"
      }
    },
    {
      "cell_type": "code",
      "execution_count": null,
      "metadata": {
        "colab": {
          "base_uri": "https://localhost:8080/"
        },
        "id": "tPrJvc1q-PnY",
        "outputId": "2fd7bb71-419f-4920-90ef-96c6d4d97a1c"
      },
      "outputs": [
        {
          "output_type": "stream",
          "name": "stdout",
          "text": [
            "12\n"
          ]
        }
      ],
      "source": [
        "#1.  Write a Python function that takes a list of numbers as input and returns the sum of all even numbers in the list.\n",
        "def sum_of_evens(numbers):\n",
        "    \"\"\"\n",
        "    Returns the sum of all even numbers in the given list.\n",
        "    \"\"\"\n",
        "    total = 0\n",
        "    for num in numbers:\n",
        "        if num % 2 == 0:  # check if number is even\n",
        "            total += num\n",
        "    return total\n",
        "\n",
        "# Example usage:\n",
        "nums = [1, 2, 3, 4, 5, 6]\n",
        "print(sum_of_evens(nums))\n",
        "\n"
      ]
    },
    {
      "cell_type": "code",
      "source": [
        "#2. Create a Python function that accepts a string and returns the reverse of that string.\n",
        "def reverse_string(s):\n",
        "    return s[::-1]\n",
        "\n",
        "# Example usage:\n",
        "text = \"Python\"\n",
        "print(reverse_string(text))\n"
      ],
      "metadata": {
        "colab": {
          "base_uri": "https://localhost:8080/"
        },
        "id": "jo3E399XRDq6",
        "outputId": "27bd8d19-0b27-419b-bb45-38ac72a7dda2"
      },
      "execution_count": null,
      "outputs": [
        {
          "output_type": "stream",
          "name": "stdout",
          "text": [
            "nohtyP\n"
          ]
        }
      ]
    },
    {
      "cell_type": "code",
      "source": [
        "#3. Implement a Python function that takes a list of integers and returns a new list containing the squares of\n",
        "#each number.\n",
        "def square_list(nums):\n",
        "    squares = []\n",
        "    for num in nums:\n",
        "        squares.append(num ** 2)\n",
        "    return squares\n",
        "\n",
        "# Example usage:\n",
        "numbers = [1, 2, 3, 4]\n",
        "print(square_list(numbers))\n"
      ],
      "metadata": {
        "colab": {
          "base_uri": "https://localhost:8080/"
        },
        "id": "sbal6FGIRVZo",
        "outputId": "dfb4c9b9-be6a-4922-88e5-d80a8de6c2c4"
      },
      "execution_count": null,
      "outputs": [
        {
          "output_type": "stream",
          "name": "stdout",
          "text": [
            "[1, 4, 9, 16]\n"
          ]
        }
      ]
    },
    {
      "cell_type": "code",
      "source": [
        "#4.  Write a Python function that checks if a given number is prime or not from 1 to 200.\n",
        "def is_prime(n):\n",
        "    if n <= 1:\n",
        "        return False\n",
        "    for i in range(2, int(n**0.5) + 1):\n",
        "        if n % i == 0:\n",
        "            return False\n",
        "    return True\n",
        "\n",
        "# Check prime numbers from 1 to 200\n",
        "for num in range(1, 201):\n",
        "    if is_prime(num):\n",
        "        print(num)\n"
      ],
      "metadata": {
        "colab": {
          "base_uri": "https://localhost:8080/"
        },
        "id": "meHHzXGzRs5k",
        "outputId": "c06c31b7-b70e-4eb2-df4c-2b157c562df0"
      },
      "execution_count": null,
      "outputs": [
        {
          "output_type": "stream",
          "name": "stdout",
          "text": [
            "2\n",
            "3\n",
            "5\n",
            "7\n",
            "11\n",
            "13\n",
            "17\n",
            "19\n",
            "23\n",
            "29\n",
            "31\n",
            "37\n",
            "41\n",
            "43\n",
            "47\n",
            "53\n",
            "59\n",
            "61\n",
            "67\n",
            "71\n",
            "73\n",
            "79\n",
            "83\n",
            "89\n",
            "97\n",
            "101\n",
            "103\n",
            "107\n",
            "109\n",
            "113\n",
            "127\n",
            "131\n",
            "137\n",
            "139\n",
            "149\n",
            "151\n",
            "157\n",
            "163\n",
            "167\n",
            "173\n",
            "179\n",
            "181\n",
            "191\n",
            "193\n",
            "197\n",
            "199\n"
          ]
        }
      ]
    },
    {
      "cell_type": "code",
      "source": [
        "#5. Create an iterator class in Python that generates the Fibonacci sequence up to a specified number of terms.\n",
        "class FibonacciIterator:\n",
        "    def __init__(self, n):\n",
        "        self.n = n\n",
        "        self.a, self.b = 0, 1\n",
        "        self.count = 0\n",
        "\n",
        "    def __iter__(self):\n",
        "        return self\n",
        "\n",
        "    def __next__(self):\n",
        "        if self.count < self.n:\n",
        "            fib_num = self.a\n",
        "            self.a, self.b = self.b, self.a + self.b\n",
        "            self.count += 1\n",
        "            return fib_num\n",
        "        else:\n",
        "            raise StopIteration\n",
        "fib_iterator = FibonacciIterator(10)\n",
        "for num in fib_iterator:\n",
        "    print(num)\n",
        "\n",
        "\n"
      ],
      "metadata": {
        "colab": {
          "base_uri": "https://localhost:8080/"
        },
        "id": "9Tt5uaX7TF7s",
        "outputId": "8846f019-0369-4e59-858c-b168c16b41a3"
      },
      "execution_count": null,
      "outputs": [
        {
          "output_type": "stream",
          "name": "stdout",
          "text": [
            "0\n",
            "1\n",
            "1\n",
            "2\n",
            "3\n",
            "5\n",
            "8\n",
            "13\n",
            "21\n",
            "34\n"
          ]
        }
      ]
    },
    {
      "cell_type": "code",
      "source": [
        "#6.  Write a generator function in Python that yields the powers of 2 up to a given exponent.\n",
        "def powers_of_two(n):\n",
        "    for i in range(n + 1):\n",
        "        yield 2 ** i\n",
        "\n",
        "# Example usage:\n",
        "for power in powers_of_two(5):\n",
        "    print(power)\n",
        "\n"
      ],
      "metadata": {
        "colab": {
          "base_uri": "https://localhost:8080/"
        },
        "id": "Ned164muUI4M",
        "outputId": "da9fa1a5-cfae-4fc4-8268-eb9548fd9c63"
      },
      "execution_count": null,
      "outputs": [
        {
          "output_type": "stream",
          "name": "stdout",
          "text": [
            "1\n",
            "2\n",
            "4\n",
            "8\n",
            "16\n",
            "32\n"
          ]
        }
      ]
    },
    {
      "cell_type": "code",
      "source": [
        "#7.  Implement a generator function that reads a file line by line and yields each line as a string.\n",
        "def read_file_line_by_line(file_path):\n",
        "    try:\n",
        "        with open(file_path, 'r') as file:\n",
        "            for line in file:\n",
        "                yield line.strip()  # strip() removes leading/trailing whitespaces\n",
        "    except FileNotFoundError:\n",
        "        print(f\"File {file_path} not found.\")\n",
        "\n",
        "# Example usage:\n",
        "file_path = 'example.txt'\n",
        "for line in read_file_line_by_line(file_path):\n",
        " print(line)\n"
      ],
      "metadata": {
        "colab": {
          "base_uri": "https://localhost:8080/"
        },
        "id": "U8_CYBtfVo_8",
        "outputId": "d5292c89-f27c-468a-a10d-b329f00845fc"
      },
      "execution_count": 34,
      "outputs": [
        {
          "output_type": "stream",
          "name": "stdout",
          "text": [
            "File example.txt not found.\n"
          ]
        }
      ]
    },
    {
      "cell_type": "code",
      "source": [
        "#8. Use a lambda function in Python to sort a list of tuples based on the second element of each tuple.\n",
        "# Sample list of tuples\n",
        "data = [(1, 3), (4, 1), (2, 5), (3, 2)]\n",
        "\n",
        "# Sort by the second element of each tuple\n",
        "sorted_data = sorted(data, key=lambda x: x[1])\n",
        "\n",
        "print(sorted_data)\n"
      ],
      "metadata": {
        "colab": {
          "base_uri": "https://localhost:8080/"
        },
        "id": "gZoIraXikV7z",
        "outputId": "8397a7cb-751e-4a6f-9862-61495cccd73e"
      },
      "execution_count": 36,
      "outputs": [
        {
          "output_type": "stream",
          "name": "stdout",
          "text": [
            "[(4, 1), (3, 2), (1, 3), (2, 5)]\n"
          ]
        }
      ]
    },
    {
      "cell_type": "code",
      "source": [
        "#9. Write a Python program that uses `map()` to convert a list of temperatures from Celsius to Fahrenheit.\n",
        "# List of temperatures in Celsius\n",
        "celsius_temps = [0, 20, 37, 100]\n",
        "\n",
        "# Function to convert Celsius to Fahrenheit\n",
        "def celsius_to_fahrenheit(c):\n",
        "    return (c * 9/5) + 32\n",
        "\n",
        "# Using map() to apply the conversion to each element\n",
        "fahrenheit_temps = list(map(celsius_to_fahrenheit, celsius_temps))\n",
        "\n",
        "print(\"Celsius:\", celsius_temps)\n",
        "print(\"Fahrenheit:\", fahrenheit_temps)\n"
      ],
      "metadata": {
        "colab": {
          "base_uri": "https://localhost:8080/"
        },
        "id": "2BjwW8AwlAz2",
        "outputId": "6d5f6f33-2e25-41fc-e25e-d98d2f9c8016"
      },
      "execution_count": 37,
      "outputs": [
        {
          "output_type": "stream",
          "name": "stdout",
          "text": [
            "Celsius: [0, 20, 37, 100]\n",
            "Fahrenheit: [32.0, 68.0, 98.6, 212.0]\n"
          ]
        }
      ]
    },
    {
      "cell_type": "code",
      "source": [
        "#10.  Create a Python program that uses `filter()` to remove all the vowels from a given string.\n",
        "# Input string\n",
        "text = \"Hello, World!\"\n",
        "\n",
        "# Function to check if a character is not a vowel\n",
        "def is_not_vowel(char):\n",
        "    return char.lower() not in 'aeiou'\n",
        "\n",
        "# Using filter() to remove vowels\n",
        "result = ''.join(filter(is_not_vowel, text))\n",
        "\n",
        "print(\"Original string:\", text)\n",
        "print(\"String without vowels:\", result)\n"
      ],
      "metadata": {
        "colab": {
          "base_uri": "https://localhost:8080/"
        },
        "id": "iaQ75ivLlZG0",
        "outputId": "f5d781f7-174c-4920-8c03-ff44924eeabf"
      },
      "execution_count": 38,
      "outputs": [
        {
          "output_type": "stream",
          "name": "stdout",
          "text": [
            "Original string: Hello, World!\n",
            "String without vowels: Hll, Wrld!\n"
          ]
        }
      ]
    },
    {
      "cell_type": "code",
      "source": [
        "#11. Imagine an accounting routine used in a book shop. It works on a list with sublists, which look like this:\n",
        "# Data representing the orders\n",
        "orders = [\n",
        "    [34587, \"Learning Python, Mark Lutz\", 4, 40.95],\n",
        "    [98762, \"Programming Python, Mark Lutz\", 5, 56.80],\n",
        "    [77226, \"Head First Python, Paul Barry\", 3, 32.95],\n",
        "    [88112, \"Einfuhrung in Python3, Bernd Klein\", 3, 24.99]\n",
        "]\n",
        "\n",
        "# Using map and lambda to calculate the product and adjust if needed\n",
        "result = list(map(\n",
        "    lambda order: (order[0], order[2] * order[3] + 10 if order[2] * order[3] < 100 else order[2] * order[3]),\n",
        "    orders\n",
        "))\n",
        "\n",
        "print(result)"
      ],
      "metadata": {
        "colab": {
          "base_uri": "https://localhost:8080/"
        },
        "id": "-OENS4J2lpoW",
        "outputId": "5ce345a0-e013-4c6c-f583-923adbc98002"
      },
      "execution_count": 41,
      "outputs": [
        {
          "output_type": "stream",
          "name": "stdout",
          "text": [
            "[(34587, 163.8), (98762, 284.0), (77226, 108.85000000000001), (88112, 84.97)]\n"
          ]
        }
      ]
    }
  ]
}